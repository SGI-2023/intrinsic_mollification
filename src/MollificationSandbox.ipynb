{
 "cells": [
  {
   "cell_type": "code",
   "execution_count": 7,
   "metadata": {},
   "outputs": [],
   "source": [
    "from Mollification import *\n",
    "\n",
    "import trimesh\n",
    "import os\n",
    "import time\n",
    "\n",
    "root_folder = os.getcwd()"
   ]
  },
  {
   "cell_type": "code",
   "execution_count": 10,
   "metadata": {},
   "outputs": [],
   "source": [
    "[V,F]= igl.read_triangle_mesh(os.path.join(\n",
    "            # root_folder, \"../../GC/TestEdgeLengths\", \"11.stl\"))\n",
    "            root_folder, \"../data\", \"bunny.obj\"))\n"
   ]
  },
  {
   "cell_type": "code",
   "execution_count": 9,
   "metadata": {},
   "outputs": [
    {
     "name": "stdout",
     "output_type": "stream",
     "text": [
      "(2, 144046, 3)\n"
     ]
    }
   ],
   "source": [
    "F = np.array([F]).repeat(2, axis=0)\n",
    "print(F.shape)"
   ]
  },
  {
   "cell_type": "code",
   "execution_count": 11,
   "metadata": {},
   "outputs": [
    {
     "name": "stdout",
     "output_type": "stream",
     "text": [
      "[[-0.6301  1.4997 -0.5411]\n",
      " [-0.6205  1.5054 -0.5423]\n",
      " [-0.621   1.4978 -0.5417]\n",
      " ...\n",
      " [-0.1342  0.0502  0.5093]\n",
      " [-0.1636  0.0409  0.5287]\n",
      " [-0.176   0.04    0.5318]] [[    0     1     2]\n",
      " [    2     1     3]\n",
      " [    2     3     4]\n",
      " ...\n",
      " [63726 71981 63728]\n",
      " [71998 26888 26890]\n",
      " [26923 26922 72017]]\n"
     ]
    }
   ],
   "source": [
    "print(V, F)"
   ]
  },
  {
   "cell_type": "code",
   "execution_count": 12,
   "metadata": {},
   "outputs": [
    {
     "name": "stdout",
     "output_type": "stream",
     "text": [
      "[[0.00764003 0.00931558 0.01122898]\n",
      " [0.00820731 0.00641015 0.00764003]\n",
      " [0.00811049 0.00926553 0.00641015]\n",
      " ...\n",
      " [0.01277732 0.00597997 0.01115796]\n",
      " [0.0090802  0.01168161 0.01179619]\n",
      " [0.00956765 0.00732871 0.0069491 ]]\n",
      "Constant Epsilon took:  0.017951250076293945\n",
      "One by one step took:  0.6253283023834229\n",
      "One by one interpolated took:  0.6612627506256104\n",
      "Local least mollification Manhattan took:  6.644842147827148\n",
      "Local least mollification Euclidean took:  27.817010164260864\n"
     ]
    }
   ],
   "source": [
    "delta = 1e-2\n",
    "print(igl.edge_lengths(V, F))\n",
    "# time before\n",
    "end0 = time.time()\n",
    "IntrinsicMollification(V, F, delta, scheme=MOLLIFICATION_SCHEME.CONSTANT_EPSILON)\n",
    "end1 = time.time()\n",
    "print(\"Constant Epsilon took: \", end1 - end0)\n",
    "\n",
    "IntrinsicMollification(V, F, delta, scheme=MOLLIFICATION_SCHEME.LOCAL_SCHEMES, local_scheme=MOLLIFICATION_LOCAL_SCHEME.ONE_BY_ONE_STEP)\n",
    "end2 = time.time()\n",
    "print(\"One by one step took: \", end2 - end1)\n",
    "\n",
    "IntrinsicMollification(V, F, delta, scheme=MOLLIFICATION_SCHEME.LOCAL_SCHEMES, local_scheme=MOLLIFICATION_LOCAL_SCHEME.ONE_BY_ONE_INTERPOLATED)\n",
    "end3 = time.time()\n",
    "print(\"One by one interpolated took: \", end3 - end2)\n",
    "\n",
    "IntrinsicMollification(V, F, delta, scheme=MOLLIFICATION_SCHEME.LOCAL_SCHEMES, local_scheme=MOLLIFICATION_LOCAL_SCHEME.LOCAL_LEAST_MOLLIFICATION_MANHATTAN)\n",
    "end4 = time.time()\n",
    "print(\"Local least mollification Manhattan took: \", end4 - end3)\n",
    "\n",
    "IntrinsicMollification(V, F, delta, scheme=MOLLIFICATION_SCHEME.LOCAL_SCHEMES, local_scheme=MOLLIFICATION_LOCAL_SCHEME.LOCAL_LEAST_MOLLIFICATION_EUCLIDEAN)\n",
    "end5 = time.time()\n",
    "print(\"Local least mollification Euclidean took: \", end5 - end4)"
   ]
  },
  {
   "cell_type": "code",
   "execution_count": 8,
   "metadata": {},
   "outputs": [
    {
     "name": "stdout",
     "output_type": "stream",
     "text": [
      "[-0.1 -0.1 -0.1  0.   0.   0. ] 0.0\n"
     ]
    }
   ],
   "source": [
    "b = np.array([- delta,   - delta,    - delta,    0,     0,    0])\n",
    "print(b, b[3])"
   ]
  }
 ],
 "metadata": {
  "kernelspec": {
   "display_name": "Python 3",
   "language": "python",
   "name": "python3"
  },
  "language_info": {
   "codemirror_mode": {
    "name": "ipython",
    "version": 3
   },
   "file_extension": ".py",
   "mimetype": "text/x-python",
   "name": "python",
   "nbconvert_exporter": "python",
   "pygments_lexer": "ipython3",
   "version": "3.10.0"
  },
  "orig_nbformat": 4
 },
 "nbformat": 4,
 "nbformat_minor": 2
}
