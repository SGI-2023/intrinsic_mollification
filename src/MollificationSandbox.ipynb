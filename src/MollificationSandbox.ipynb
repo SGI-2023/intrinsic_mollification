{
 "cells": [
  {
   "cell_type": "code",
   "execution_count": 1,
   "metadata": {},
   "outputs": [],
   "source": [
    "from Mollification import *\n",
    "\n",
    "import trimesh\n",
    "import os\n",
    "import time\n",
    "\n",
    "root_folder = os.getcwd()"
   ]
  },
  {
   "cell_type": "code",
   "execution_count": 2,
   "metadata": {},
   "outputs": [],
   "source": [
    "[V,F]= igl.read_triangle_mesh(os.path.join(\n",
    "            # root_folder, \"../../GC/TestEdgeLengths\", \"11.stl\"))\n",
    "            root_folder, \"../../GC/Thingi10K/Thingi10K/raw_meshes\", \"93842.stl\"))\n"
   ]
  },
  {
   "cell_type": "code",
   "execution_count": 9,
   "metadata": {},
   "outputs": [
    {
     "name": "stdout",
     "output_type": "stream",
     "text": [
      "(2, 144046, 3)\n"
     ]
    }
   ],
   "source": [
    "F = np.array([F]).repeat(2, axis=0)\n",
    "print(F.shape)"
   ]
  },
  {
   "cell_type": "code",
   "execution_count": 4,
   "metadata": {},
   "outputs": [
    {
     "name": "stdout",
     "output_type": "stream",
     "text": [
      "[[-0.6301  1.4997 -0.5411]\n",
      " [-0.6205  1.5054 -0.5423]\n",
      " [-0.621   1.4978 -0.5417]\n",
      " ...\n",
      " [-0.1342  0.0502  0.5093]\n",
      " [-0.1636  0.0409  0.5287]\n",
      " [-0.176   0.04    0.5318]] [[    0     1     2]\n",
      " [    2     1     3]\n",
      " [    2     3     4]\n",
      " ...\n",
      " [63726 71981 63728]\n",
      " [71998 26888 26890]\n",
      " [26923 26922 72017]]\n"
     ]
    }
   ],
   "source": [
    "print(V, F)"
   ]
  },
  {
   "cell_type": "code",
   "execution_count": 3,
   "metadata": {},
   "outputs": [
    {
     "name": "stdout",
     "output_type": "stream",
     "text": [
      "Constant Epsilon took:  0.05381584167480469\n",
      "One by one step took:  1.9845805168151855\n",
      "One by one interpolated took:  1.9355261325836182\n",
      "Local least mollification Manhattan took:  3.007106065750122\n",
      "Local least mollification Euclidean took:  6.898361444473267\n"
     ]
    }
   ],
   "source": [
    "delta = 1e-2\n",
    "FL0 = igl.edge_lengths(V, F)\n",
    "# time before\n",
    "end0 = time.time()\n",
    "FL1 = IntrinsicMollification(V, F, delta, scheme=MOLLIFICATION_SCHEME.CONSTANT_EPSILON)\n",
    "end1 = time.time()\n",
    "print(\"Constant Epsilon took: \", end1 - end0)\n",
    "\n",
    "FL2 = IntrinsicMollification(V, F, delta, scheme=MOLLIFICATION_SCHEME.LOCAL_SCHEMES, local_scheme=MOLLIFICATION_LOCAL_SCHEME.ONE_BY_ONE_STEP)\n",
    "end2 = time.time()\n",
    "print(\"One by one step took: \", end2 - end1)\n",
    "\n",
    "FL3 = IntrinsicMollification(V, F, delta, scheme=MOLLIFICATION_SCHEME.LOCAL_SCHEMES, local_scheme=MOLLIFICATION_LOCAL_SCHEME.ONE_BY_ONE_INTERPOLATED)\n",
    "end3 = time.time()\n",
    "print(\"One by one interpolated took: \", end3 - end2)\n",
    "\n",
    "FL4 = IntrinsicMollification(V, F, delta, scheme=MOLLIFICATION_SCHEME.LOCAL_SCHEMES, local_scheme=MOLLIFICATION_LOCAL_SCHEME.LOCAL_LEAST_MOLLIFICATION_MANHATTAN)\n",
    "end4 = time.time()\n",
    "print(\"Local least mollification Manhattan took: \", end4 - end3)\n",
    "\n",
    "FL5 = IntrinsicMollification(V, F, delta, scheme=MOLLIFICATION_SCHEME.LOCAL_SCHEMES, local_scheme=MOLLIFICATION_LOCAL_SCHEME.LOCAL_LEAST_MOLLIFICATION_EUCLIDEAN)\n",
    "end5 = time.time()\n",
    "print(\"Local least mollification Euclidean took: \", end5 - end4)"
   ]
  },
  {
   "cell_type": "code",
   "execution_count": 6,
   "metadata": {},
   "outputs": [
    {
     "name": "stdout",
     "output_type": "stream",
     "text": [
      "0.009999999918769322\n",
      "2.9532941867876297e-06\n",
      "5.203186307362574e-06\n",
      "2.800840003085134e-06\n",
      "2.814440321656371e-06\n"
     ]
    }
   ],
   "source": [
    "print(np.sum(FL1 - FL0) / np.sum(FL0))\n",
    "print(np.sum(FL2 - FL0) / np.sum(FL0))\n",
    "print(np.sum(FL3 - FL0) / np.sum(FL0))\n",
    "print(np.sum(FL4 - FL0) / np.sum(FL0))\n",
    "print(np.sum(FL5 - FL0) / np.sum(FL0))"
   ]
  },
  {
   "cell_type": "code",
   "execution_count": 8,
   "metadata": {},
   "outputs": [
    {
     "name": "stdout",
     "output_type": "stream",
     "text": [
      "[-0.1 -0.1 -0.1  0.   0.   0. ] 0.0\n"
     ]
    }
   ],
   "source": [
    "b = np.array([- delta,   - delta,    - delta,    0,     0,    0])\n",
    "print(b, b[3])"
   ]
  }
 ],
 "metadata": {
  "kernelspec": {
   "display_name": "Python 3",
   "language": "python",
   "name": "python3"
  },
  "language_info": {
   "codemirror_mode": {
    "name": "ipython",
    "version": 3
   },
   "file_extension": ".py",
   "mimetype": "text/x-python",
   "name": "python",
   "nbconvert_exporter": "python",
   "pygments_lexer": "ipython3",
   "version": "3.10.0"
  },
  "orig_nbformat": 4
 },
 "nbformat": 4,
 "nbformat_minor": 2
}
