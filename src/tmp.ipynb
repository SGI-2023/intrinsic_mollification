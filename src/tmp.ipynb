{
 "cells": [
  {
   "cell_type": "code",
   "execution_count": 1,
   "metadata": {},
   "outputs": [],
   "source": [
    "from Mollification import *\n",
    "\n",
    "import trimesh\n",
    "import os\n",
    "import time\n",
    "\n",
    "import meshio as mio\n",
    "\n",
    "from buildGlueMap import *\n",
    "\n",
    "root_folder = os.getcwd()"
   ]
  },
  {
   "cell_type": "code",
   "execution_count": 11,
   "metadata": {},
   "outputs": [],
   "source": [
    "G = np.array([[[-1, -1], [-1, -1], [1, 0]], [[0,2], [2, 0], [3, 0]], [[1, 1], [-1, -1], [-1, -1]], [[1, 2], [-1, -1], [-1, -1]]])\n",
    "FL = np.zeros((4, 3))\n",
    "#E2FL = np.array([(0, 0), (0, 1), (0, 2), (1, 1), (2, 2), (2, 1), (1, 2), (3, 1), (3, 2)])\n",
    "E2FL = np.array([[0, 0], [0, 1], [0, 2], [1, 1], [2, 2], [2, 1], [1, 2]])\n",
    "#LE = np.array([0, 1, 2, 3, 4, 5, 6, 7, 8])\n",
    "LE = np.array([0, 1, 2, 3, 4, 5, 6])\n",
    "\n",
    "FL2E = np.array([[[0], [1], [2]], [[2], [3], [6]], [[3], [5], [4]], [[6], [7], [8]]])\n",
    "\n"
   ]
  },
  {
   "cell_type": "code",
   "execution_count": 12,
   "metadata": {},
   "outputs": [
    {
     "name": "stdout",
     "output_type": "stream",
     "text": [
      "[[0. 1. 2.]\n",
      " [0. 3. 6.]\n",
      " [0. 5. 4.]\n",
      " [0. 0. 0.]]\n"
     ]
    }
   ],
   "source": [
    "FL[E2FL[:,0], E2FL[:,1]] = LE\n",
    "print(FL)"
   ]
  },
  {
   "cell_type": "code",
   "execution_count": 4,
   "metadata": {},
   "outputs": [
    {
     "data": {
      "text/plain": [
       "array([False, False,  True,  True, False, False,  True])"
      ]
     },
     "execution_count": 4,
     "metadata": {},
     "output_type": "execute_result"
    }
   ],
   "source": [
    "((G[E2FL[:,0], E2FL[:,1]][:,0] != -1) & (G[E2FL[:,0], E2FL[:,1]][:,1] != -1))"
   ]
  },
  {
   "cell_type": "code",
   "execution_count": 5,
   "metadata": {},
   "outputs": [
    {
     "name": "stdout",
     "output_type": "stream",
     "text": [
      "(array([0, 0, 0, 1, 2, 2, 1]), array([0, 1, 2, 1, 2, 1, 2]))\n"
     ]
    }
   ],
   "source": [
    "FS = (E2FL[:,0], E2FL[:,1])\n",
    "print(FS)"
   ]
  },
  {
   "cell_type": "code",
   "execution_count": 6,
   "metadata": {},
   "outputs": [
    {
     "name": "stdout",
     "output_type": "stream",
     "text": [
      "(array([1, 2, 3]), array([0, 0, 0]))\n"
     ]
    }
   ],
   "source": [
    "FSP = G[FS][((G[FS][:,0] != -1) & (G[FS][:,1] != -1)), :]\n",
    "FSP = (FSP[:, 0], FSP[:, 1])\n",
    "print(FSP)"
   ]
  },
  {
   "cell_type": "code",
   "execution_count": 7,
   "metadata": {},
   "outputs": [
    {
     "name": "stdout",
     "output_type": "stream",
     "text": [
      "[[0. 1. 2.]\n",
      " [2. 3. 6.]\n",
      " [3. 5. 4.]\n",
      " [6. 0. 0.]]\n"
     ]
    }
   ],
   "source": [
    "FL[FSP] = LE[FL2E[FSP]][:,0]\n",
    "print(FL)"
   ]
  },
  {
   "cell_type": "code",
   "execution_count": 2,
   "metadata": {},
   "outputs": [],
   "source": [
    "mesh = mio.read(\"../data/symmcube.obj\")\n",
    "F = mesh.cells_dict[\"triangle\"]\n",
    "V = mesh.points"
   ]
  },
  {
   "cell_type": "code",
   "execution_count": 5,
   "metadata": {},
   "outputs": [
    {
     "name": "stdout",
     "output_type": "stream",
     "text": [
      "[[141.42135624 200.         141.42135624]\n",
      " [141.42135624 200.         141.42135624]\n",
      " [141.42135624 200.         141.42135624]\n",
      " [141.42135624 200.         141.42135624]\n",
      " [141.42135624 200.         141.42135624]\n",
      " [141.42135624 200.         141.42135624]\n",
      " [141.42135624 200.         141.42135624]\n",
      " [141.42135624 200.         141.42135624]\n",
      " [141.42135624 200.         141.42135624]\n",
      " [141.42135624 200.         141.42135624]\n",
      " [141.42135624 200.         141.42135624]\n",
      " [141.42135624 200.         141.42135624]\n",
      " [200.         141.42135624 141.42135624]\n",
      " [141.42135624 141.42135624 200.        ]\n",
      " [200.         141.42135624 141.42135624]\n",
      " [141.42135624 141.42135624 200.        ]\n",
      " [200.         141.42135624 141.42135624]\n",
      " [141.42135624 141.42135624 200.        ]\n",
      " [200.         141.42135624 141.42135624]\n",
      " [141.42135624 141.42135624 200.        ]\n",
      " [200.         141.42135624 141.42135624]\n",
      " [141.42135624 141.42135624 200.        ]\n",
      " [200.         141.42135624 141.42135624]\n",
      " [141.42135624 141.42135624 200.        ]]\n"
     ]
    }
   ],
   "source": [
    "print(FL)"
   ]
  },
  {
   "cell_type": "code",
   "execution_count": 5,
   "metadata": {},
   "outputs": [
    {
     "name": "stdout",
     "output_type": "stream",
     "text": [
      "[[141.42135624 200.         141.42135624]\n",
      " [141.42135624 200.         141.42135624]\n",
      " [141.42135624 200.         141.42135624]\n",
      " [141.42135624 200.         141.42135624]\n",
      " [141.42135624 200.         141.42135624]\n",
      " [141.42135624 200.         141.42135624]\n",
      " [141.42135624 200.         141.42135624]\n",
      " [141.42135624 200.         141.42135624]\n",
      " [141.42135624 200.         141.42135624]\n",
      " [141.42135624 200.         141.42135624]\n",
      " [141.42135624 200.         141.42135624]\n",
      " [141.42135624 200.         141.42135624]\n",
      " [200.         141.42135624 141.42135624]\n",
      " [141.42135624 141.42135624 200.        ]\n",
      " [200.         141.42135624 141.42135624]\n",
      " [141.42135624 141.42135624 200.        ]\n",
      " [200.         141.42135624 141.42135624]\n",
      " [141.42135624 141.42135624 200.        ]\n",
      " [200.         141.42135624 141.42135624]\n",
      " [141.42135624 141.42135624 200.        ]\n",
      " [200.         141.42135624 141.42135624]\n",
      " [141.42135624 141.42135624 200.        ]\n",
      " [200.         141.42135624 141.42135624]\n",
      " [141.42135624 141.42135624 200.        ]]\n"
     ]
    }
   ],
   "source": [
    "print(FLG)"
   ]
  },
  {
   "cell_type": "code",
   "execution_count": 8,
   "metadata": {},
   "outputs": [
    {
     "name": "stdout",
     "output_type": "stream",
     "text": [
      "[[[17  2]\n",
      "  [ 6  0]\n",
      "  [14  1]]\n",
      "\n",
      " [[15  2]\n",
      "  [ 7  0]\n",
      "  [20  1]]\n",
      "\n",
      " [[21  2]\n",
      "  [ 8  0]\n",
      "  [18  1]]\n",
      "\n",
      " [[19  2]\n",
      "  [ 9  0]\n",
      "  [16  1]]\n",
      "\n",
      " [[13  2]\n",
      "  [10  0]\n",
      "  [15  0]]\n",
      "\n",
      " [[23  2]\n",
      "  [11  0]\n",
      "  [ 7  2]]\n",
      "\n",
      " [[ 0  1]\n",
      "  [16  2]\n",
      "  [23  0]]\n",
      "\n",
      " [[ 1  1]\n",
      "  [14  2]\n",
      "  [ 5  2]]\n",
      "\n",
      " [[ 2  1]\n",
      "  [20  2]\n",
      "  [11  2]]\n",
      "\n",
      " [[ 3  1]\n",
      "  [18  2]\n",
      "  [22  1]]\n",
      "\n",
      " [[ 4  1]\n",
      "  [12  2]\n",
      "  [17  0]]\n",
      "\n",
      " [[ 5  1]\n",
      "  [22  2]\n",
      "  [ 8  2]]\n",
      "\n",
      " [[13  1]\n",
      "  [19  0]\n",
      "  [10  1]]\n",
      "\n",
      " [[21  0]\n",
      "  [12  0]\n",
      "  [ 4  0]]\n",
      "\n",
      " [[15  1]\n",
      "  [ 0  2]\n",
      "  [ 7  1]]\n",
      "\n",
      " [[ 4  2]\n",
      "  [14  0]\n",
      "  [ 1  0]]\n",
      "\n",
      " [[17  1]\n",
      "  [ 3  2]\n",
      "  [ 6  1]]\n",
      "\n",
      " [[10  2]\n",
      "  [16  0]\n",
      "  [ 0  0]]\n",
      "\n",
      " [[19  1]\n",
      "  [ 2  2]\n",
      "  [ 9  1]]\n",
      "\n",
      " [[12  1]\n",
      "  [18  0]\n",
      "  [ 3  0]]\n",
      "\n",
      " [[21  1]\n",
      "  [ 1  2]\n",
      "  [ 8  1]]\n",
      "\n",
      " [[13  0]\n",
      "  [20  0]\n",
      "  [ 2  0]]\n",
      "\n",
      " [[23  1]\n",
      "  [ 9  2]\n",
      "  [11  1]]\n",
      "\n",
      " [[ 6  2]\n",
      "  [22  0]\n",
      "  [ 5  0]]]\n"
     ]
    }
   ],
   "source": [
    "print(G)"
   ]
  },
  {
   "cell_type": "code",
   "execution_count": 3,
   "metadata": {},
   "outputs": [],
   "source": [
    "delta = 1e-2\n",
    "FL = igl.edge_lengths(V, F)"
   ]
  },
  {
   "cell_type": "code",
   "execution_count": 4,
   "metadata": {},
   "outputs": [
    {
     "name": "stdout",
     "output_type": "stream",
     "text": [
      "interior edge:  (0, 0) (6, 2) 0\n",
      "interior edge:  (0, 1) (14, 0) 1\n",
      "interior edge:  (0, 2) (17, 1) 2\n",
      "interior edge:  (1, 0) (7, 2) 3\n",
      "interior edge:  (1, 1) (20, 0) 4\n",
      "interior edge:  (1, 2) (15, 1) 5\n",
      "interior edge:  (2, 0) (8, 2) 6\n",
      "interior edge:  (2, 1) (18, 0) 7\n",
      "interior edge:  (2, 2) (21, 1) 8\n",
      "interior edge:  (3, 0) (9, 2) 9\n",
      "interior edge:  (3, 1) (16, 0) 10\n",
      "interior edge:  (3, 2) (19, 1) 11\n",
      "interior edge:  (4, 0) (10, 2) 12\n",
      "interior edge:  (4, 1) (15, 2) 13\n",
      "interior edge:  (4, 2) (13, 1) 14\n",
      "interior edge:  (5, 0) (11, 2) 15\n",
      "interior edge:  (5, 1) (7, 1) 16\n",
      "interior edge:  (5, 2) (23, 1) 17\n",
      "interior edge:  (6, 0) (16, 1) 18\n",
      "interior edge:  (6, 1) (23, 2) 19\n",
      "interior edge:  (7, 0) (14, 1) 20\n",
      "interior edge:  (8, 0) (20, 1) 21\n",
      "interior edge:  (8, 1) (11, 1) 22\n",
      "interior edge:  (9, 0) (18, 1) 23\n",
      "interior edge:  (9, 1) (22, 0) 24\n",
      "interior edge:  (10, 0) (12, 1) 25\n",
      "interior edge:  (10, 1) (17, 2) 26\n",
      "interior edge:  (11, 0) (22, 1) 27\n",
      "interior edge:  (12, 0) (19, 2) 28\n",
      "interior edge:  (12, 2) (13, 0) 29\n",
      "interior edge:  (13, 2) (21, 2) 30\n",
      "interior edge:  (14, 2) (15, 0) 31\n",
      "interior edge:  (16, 2) (17, 0) 32\n",
      "interior edge:  (18, 2) (19, 0) 33\n",
      "interior edge:  (20, 2) (21, 0) 34\n",
      "interior edge:  (22, 2) (23, 0) 35\n",
      "(36, 2)\n",
      "E2FL:  [[ 0  0]\n",
      " [ 0  1]\n",
      " [ 0  2]\n",
      " [ 1  0]\n",
      " [ 1  1]\n",
      " [ 1  2]\n",
      " [ 2  0]\n",
      " [ 2  1]\n",
      " [ 2  2]\n",
      " [ 3  0]\n",
      " [ 3  1]\n",
      " [ 3  2]\n",
      " [ 4  0]\n",
      " [ 4  1]\n",
      " [ 4  2]\n",
      " [ 5  0]\n",
      " [ 5  1]\n",
      " [ 5  2]\n",
      " [ 6  0]\n",
      " [ 6  1]\n",
      " [ 7  0]\n",
      " [ 8  0]\n",
      " [ 8  1]\n",
      " [ 9  0]\n",
      " [ 9  1]\n",
      " [10  0]\n",
      " [10  1]\n",
      " [11  0]\n",
      " [12  0]\n",
      " [12  2]\n",
      " [13  2]\n",
      " [14  2]\n",
      " [16  2]\n",
      " [18  2]\n",
      " [20  2]\n",
      " [22  2]]\n",
      "(24, 3)\n",
      "FL2E:  [[ 0  1  2]\n",
      " [ 3  4  5]\n",
      " [ 6  7  8]\n",
      " [ 9 10 11]\n",
      " [12 13 14]\n",
      " [15 16 17]\n",
      " [18 19  0]\n",
      " [20 16  3]\n",
      " [21 22  6]\n",
      " [23 24  9]\n",
      " [25 26 12]\n",
      " [27 22 15]\n",
      " [28 25 29]\n",
      " [29 14 30]\n",
      " [ 1 20 31]\n",
      " [31  5 13]\n",
      " [10 18 32]\n",
      " [32  2 26]\n",
      " [ 7 23 33]\n",
      " [33 11 28]\n",
      " [ 4 21 34]\n",
      " [34  8 30]\n",
      " [24 27 35]\n",
      " [35 17 19]]\n",
      "i:  0 fs:  (0, 0) fsp:  (6, 2) iL1:  0 iL2:  1 iL3:  2\n",
      "i:  0 fs:  (0, 0) fsp:  (6, 2) iL1:  0 iL2:  18 iL3:  19\n",
      "i:  0 fs:  (0, 0) fsp:  (6, 2) iL1:  0 iL2:  18 iL3:  19 FL[fs[0], fs[1]]:  141.4213562373095\n",
      "i:  1 fs:  (0, 1) fsp:  (14, 0) iL1:  1 iL2:  2 iL3:  0\n",
      "i:  1 fs:  (0, 1) fsp:  (14, 0) iL1:  1 iL2:  20 iL3:  31\n",
      "i:  1 fs:  (0, 1) fsp:  (14, 0) iL1:  1 iL2:  20 iL3:  31 FL[fs[0], fs[1]]:  200.0\n",
      "i:  2 fs:  (0, 2) fsp:  (17, 1) iL1:  2 iL2:  0 iL3:  1\n",
      "i:  2 fs:  (0, 2) fsp:  (17, 1) iL1:  2 iL2:  26 iL3:  32\n",
      "i:  2 fs:  (0, 2) fsp:  (17, 1) iL1:  2 iL2:  26 iL3:  32 FL[fs[0], fs[1]]:  141.4213562373095\n",
      "i:  3 fs:  (1, 0) fsp:  (7, 2) iL1:  3 iL2:  4 iL3:  5\n",
      "i:  3 fs:  (1, 0) fsp:  (7, 2) iL1:  3 iL2:  20 iL3:  16\n",
      "i:  3 fs:  (1, 0) fsp:  (7, 2) iL1:  3 iL2:  20 iL3:  16 FL[fs[0], fs[1]]:  141.4213562373095\n",
      "i:  4 fs:  (1, 1) fsp:  (20, 0) iL1:  4 iL2:  5 iL3:  3\n",
      "i:  4 fs:  (1, 1) fsp:  (20, 0) iL1:  4 iL2:  21 iL3:  34\n",
      "i:  4 fs:  (1, 1) fsp:  (20, 0) iL1:  4 iL2:  21 iL3:  34 FL[fs[0], fs[1]]:  200.0\n",
      "i:  5 fs:  (1, 2) fsp:  (15, 1) iL1:  5 iL2:  3 iL3:  4\n",
      "i:  5 fs:  (1, 2) fsp:  (15, 1) iL1:  5 iL2:  13 iL3:  31\n",
      "i:  5 fs:  (1, 2) fsp:  (15, 1) iL1:  5 iL2:  13 iL3:  31 FL[fs[0], fs[1]]:  141.4213562373095\n",
      "i:  6 fs:  (2, 0) fsp:  (8, 2) iL1:  6 iL2:  7 iL3:  8\n",
      "i:  6 fs:  (2, 0) fsp:  (8, 2) iL1:  6 iL2:  21 iL3:  22\n",
      "i:  6 fs:  (2, 0) fsp:  (8, 2) iL1:  6 iL2:  21 iL3:  22 FL[fs[0], fs[1]]:  141.4213562373095\n",
      "i:  7 fs:  (2, 1) fsp:  (18, 0) iL1:  7 iL2:  8 iL3:  6\n",
      "i:  7 fs:  (2, 1) fsp:  (18, 0) iL1:  7 iL2:  23 iL3:  33\n",
      "i:  7 fs:  (2, 1) fsp:  (18, 0) iL1:  7 iL2:  23 iL3:  33 FL[fs[0], fs[1]]:  200.0\n",
      "i:  8 fs:  (2, 2) fsp:  (21, 1) iL1:  8 iL2:  6 iL3:  7\n",
      "i:  8 fs:  (2, 2) fsp:  (21, 1) iL1:  8 iL2:  30 iL3:  34\n",
      "i:  8 fs:  (2, 2) fsp:  (21, 1) iL1:  8 iL2:  30 iL3:  34 FL[fs[0], fs[1]]:  141.4213562373095\n",
      "i:  9 fs:  (3, 0) fsp:  (9, 2) iL1:  9 iL2:  10 iL3:  11\n",
      "i:  9 fs:  (3, 0) fsp:  (9, 2) iL1:  9 iL2:  23 iL3:  24\n",
      "i:  9 fs:  (3, 0) fsp:  (9, 2) iL1:  9 iL2:  23 iL3:  24 FL[fs[0], fs[1]]:  141.4213562373095\n",
      "i:  10 fs:  (3, 1) fsp:  (16, 0) iL1:  10 iL2:  11 iL3:  9\n",
      "i:  10 fs:  (3, 1) fsp:  (16, 0) iL1:  10 iL2:  18 iL3:  32\n",
      "i:  10 fs:  (3, 1) fsp:  (16, 0) iL1:  10 iL2:  18 iL3:  32 FL[fs[0], fs[1]]:  200.0\n",
      "i:  11 fs:  (3, 2) fsp:  (19, 1) iL1:  11 iL2:  9 iL3:  10\n",
      "i:  11 fs:  (3, 2) fsp:  (19, 1) iL1:  11 iL2:  28 iL3:  33\n",
      "i:  11 fs:  (3, 2) fsp:  (19, 1) iL1:  11 iL2:  28 iL3:  33 FL[fs[0], fs[1]]:  141.4213562373095\n",
      "i:  12 fs:  (4, 0) fsp:  (10, 2) iL1:  12 iL2:  13 iL3:  14\n",
      "i:  12 fs:  (4, 0) fsp:  (10, 2) iL1:  12 iL2:  25 iL3:  26\n",
      "i:  12 fs:  (4, 0) fsp:  (10, 2) iL1:  12 iL2:  25 iL3:  26 FL[fs[0], fs[1]]:  141.4213562373095\n",
      "i:  13 fs:  (4, 1) fsp:  (15, 2) iL1:  13 iL2:  14 iL3:  12\n",
      "i:  13 fs:  (4, 1) fsp:  (15, 2) iL1:  13 iL2:  31 iL3:  5\n",
      "i:  13 fs:  (4, 1) fsp:  (15, 2) iL1:  13 iL2:  31 iL3:  5 FL[fs[0], fs[1]]:  200.0\n",
      "i:  14 fs:  (4, 2) fsp:  (13, 1) iL1:  14 iL2:  12 iL3:  13\n",
      "i:  14 fs:  (4, 2) fsp:  (13, 1) iL1:  14 iL2:  30 iL3:  29\n",
      "i:  14 fs:  (4, 2) fsp:  (13, 1) iL1:  14 iL2:  30 iL3:  29 FL[fs[0], fs[1]]:  141.4213562373095\n",
      "i:  15 fs:  (5, 0) fsp:  (11, 2) iL1:  15 iL2:  16 iL3:  17\n",
      "i:  15 fs:  (5, 0) fsp:  (11, 2) iL1:  15 iL2:  27 iL3:  22\n",
      "i:  15 fs:  (5, 0) fsp:  (11, 2) iL1:  15 iL2:  27 iL3:  22 FL[fs[0], fs[1]]:  141.4213562373095\n",
      "i:  16 fs:  (5, 1) fsp:  (7, 1) iL1:  16 iL2:  17 iL3:  15\n",
      "i:  16 fs:  (5, 1) fsp:  (7, 1) iL1:  16 iL2:  3 iL3:  20\n",
      "i:  16 fs:  (5, 1) fsp:  (7, 1) iL1:  16 iL2:  3 iL3:  20 FL[fs[0], fs[1]]:  200.0\n",
      "i:  17 fs:  (5, 2) fsp:  (23, 1) iL1:  17 iL2:  15 iL3:  16\n",
      "i:  17 fs:  (5, 2) fsp:  (23, 1) iL1:  17 iL2:  19 iL3:  35\n",
      "i:  17 fs:  (5, 2) fsp:  (23, 1) iL1:  17 iL2:  19 iL3:  35 FL[fs[0], fs[1]]:  141.4213562373095\n",
      "i:  18 fs:  (6, 0) fsp:  (16, 1) iL1:  18 iL2:  19 iL3:  0\n",
      "i:  18 fs:  (6, 0) fsp:  (16, 1) iL1:  18 iL2:  32 iL3:  10\n",
      "i:  18 fs:  (6, 0) fsp:  (16, 1) iL1:  18 iL2:  32 iL3:  10 FL[fs[0], fs[1]]:  141.4213562373095\n",
      "i:  19 fs:  (6, 1) fsp:  (23, 2) iL1:  19 iL2:  0 iL3:  18\n",
      "i:  19 fs:  (6, 1) fsp:  (23, 2) iL1:  19 iL2:  35 iL3:  17\n",
      "i:  19 fs:  (6, 1) fsp:  (23, 2) iL1:  19 iL2:  35 iL3:  17 FL[fs[0], fs[1]]:  200.0\n",
      "i:  20 fs:  (7, 0) fsp:  (14, 1) iL1:  20 iL2:  16 iL3:  3\n",
      "i:  20 fs:  (7, 0) fsp:  (14, 1) iL1:  20 iL2:  31 iL3:  1\n",
      "i:  20 fs:  (7, 0) fsp:  (14, 1) iL1:  20 iL2:  31 iL3:  1 FL[fs[0], fs[1]]:  141.4213562373095\n",
      "i:  21 fs:  (8, 0) fsp:  (20, 1) iL1:  21 iL2:  22 iL3:  6\n",
      "i:  21 fs:  (8, 0) fsp:  (20, 1) iL1:  21 iL2:  34 iL3:  4\n",
      "i:  21 fs:  (8, 0) fsp:  (20, 1) iL1:  21 iL2:  34 iL3:  4 FL[fs[0], fs[1]]:  141.4213562373095\n",
      "i:  22 fs:  (8, 1) fsp:  (11, 1) iL1:  22 iL2:  6 iL3:  21\n",
      "i:  22 fs:  (8, 1) fsp:  (11, 1) iL1:  22 iL2:  15 iL3:  27\n",
      "i:  22 fs:  (8, 1) fsp:  (11, 1) iL1:  22 iL2:  15 iL3:  27 FL[fs[0], fs[1]]:  200.0\n",
      "i:  23 fs:  (9, 0) fsp:  (18, 1) iL1:  23 iL2:  24 iL3:  9\n",
      "i:  23 fs:  (9, 0) fsp:  (18, 1) iL1:  23 iL2:  33 iL3:  7\n",
      "i:  23 fs:  (9, 0) fsp:  (18, 1) iL1:  23 iL2:  33 iL3:  7 FL[fs[0], fs[1]]:  141.4213562373095\n",
      "i:  24 fs:  (9, 1) fsp:  (22, 0) iL1:  24 iL2:  9 iL3:  23\n",
      "i:  24 fs:  (9, 1) fsp:  (22, 0) iL1:  24 iL2:  27 iL3:  35\n",
      "i:  24 fs:  (9, 1) fsp:  (22, 0) iL1:  24 iL2:  27 iL3:  35 FL[fs[0], fs[1]]:  200.0\n",
      "i:  25 fs:  (10, 0) fsp:  (12, 1) iL1:  25 iL2:  26 iL3:  12\n",
      "i:  25 fs:  (10, 0) fsp:  (12, 1) iL1:  25 iL2:  29 iL3:  28\n",
      "i:  25 fs:  (10, 0) fsp:  (12, 1) iL1:  25 iL2:  29 iL3:  28 FL[fs[0], fs[1]]:  141.4213562373095\n",
      "i:  26 fs:  (10, 1) fsp:  (17, 2) iL1:  26 iL2:  12 iL3:  25\n",
      "i:  26 fs:  (10, 1) fsp:  (17, 2) iL1:  26 iL2:  32 iL3:  2\n",
      "i:  26 fs:  (10, 1) fsp:  (17, 2) iL1:  26 iL2:  32 iL3:  2 FL[fs[0], fs[1]]:  200.0\n",
      "i:  27 fs:  (11, 0) fsp:  (22, 1) iL1:  27 iL2:  22 iL3:  15\n",
      "i:  27 fs:  (11, 0) fsp:  (22, 1) iL1:  27 iL2:  35 iL3:  24\n",
      "i:  27 fs:  (11, 0) fsp:  (22, 1) iL1:  27 iL2:  35 iL3:  24 FL[fs[0], fs[1]]:  141.4213562373095\n",
      "i:  28 fs:  (12, 0) fsp:  (19, 2) iL1:  28 iL2:  25 iL3:  29\n",
      "i:  28 fs:  (12, 0) fsp:  (19, 2) iL1:  28 iL2:  33 iL3:  11\n",
      "i:  28 fs:  (12, 0) fsp:  (19, 2) iL1:  28 iL2:  33 iL3:  11 FL[fs[0], fs[1]]:  200.0\n",
      "i:  29 fs:  (12, 2) fsp:  (13, 0) iL1:  29 iL2:  28 iL3:  25\n",
      "i:  29 fs:  (12, 2) fsp:  (13, 0) iL1:  29 iL2:  14 iL3:  30\n",
      "i:  29 fs:  (12, 2) fsp:  (13, 0) iL1:  29 iL2:  14 iL3:  30 FL[fs[0], fs[1]]:  141.4213562373095\n",
      "i:  30 fs:  (13, 2) fsp:  (21, 2) iL1:  30 iL2:  29 iL3:  14\n",
      "i:  30 fs:  (13, 2) fsp:  (21, 2) iL1:  30 iL2:  34 iL3:  8\n",
      "i:  30 fs:  (13, 2) fsp:  (21, 2) iL1:  30 iL2:  34 iL3:  8 FL[fs[0], fs[1]]:  200.0\n",
      "i:  31 fs:  (14, 2) fsp:  (15, 0) iL1:  31 iL2:  1 iL3:  20\n",
      "i:  31 fs:  (14, 2) fsp:  (15, 0) iL1:  31 iL2:  5 iL3:  13\n",
      "i:  31 fs:  (14, 2) fsp:  (15, 0) iL1:  31 iL2:  5 iL3:  13 FL[fs[0], fs[1]]:  141.4213562373095\n",
      "i:  32 fs:  (16, 2) fsp:  (17, 0) iL1:  32 iL2:  10 iL3:  18\n",
      "i:  32 fs:  (16, 2) fsp:  (17, 0) iL1:  32 iL2:  2 iL3:  26\n",
      "i:  32 fs:  (16, 2) fsp:  (17, 0) iL1:  32 iL2:  2 iL3:  26 FL[fs[0], fs[1]]:  141.4213562373095\n",
      "i:  33 fs:  (18, 2) fsp:  (19, 0) iL1:  33 iL2:  7 iL3:  23\n",
      "i:  33 fs:  (18, 2) fsp:  (19, 0) iL1:  33 iL2:  11 iL3:  28\n",
      "i:  33 fs:  (18, 2) fsp:  (19, 0) iL1:  33 iL2:  11 iL3:  28 FL[fs[0], fs[1]]:  141.4213562373095\n",
      "i:  34 fs:  (20, 2) fsp:  (21, 0) iL1:  34 iL2:  4 iL3:  21\n",
      "i:  34 fs:  (20, 2) fsp:  (21, 0) iL1:  34 iL2:  8 iL3:  30\n",
      "i:  34 fs:  (20, 2) fsp:  (21, 0) iL1:  34 iL2:  8 iL3:  30 FL[fs[0], fs[1]]:  141.4213562373095\n",
      "i:  35 fs:  (22, 2) fsp:  (23, 0) iL1:  35 iL2:  24 iL3:  27\n",
      "i:  35 fs:  (22, 2) fsp:  (23, 0) iL1:  35 iL2:  17 iL3:  19\n",
      "i:  35 fs:  (22, 2) fsp:  (23, 0) iL1:  35 iL2:  17 iL3:  19 FL[fs[0], fs[1]]:  141.4213562373095\n",
      "(108, 36)\n",
      "A:  [[ 1. -1. -1. ...  0.  0.  0.]\n",
      " [ 1.  0.  0. ...  0.  0.  0.]\n",
      " [-1.  0.  0. ...  0.  0.  0.]\n",
      " ...\n",
      " [ 0.  0.  0. ...  0.  0.  1.]\n",
      " [ 0.  0.  0. ...  0.  0.  1.]\n",
      " [ 0.  0.  0. ...  0.  0. -1.]]\n",
      "(108,)\n",
      "b:  [  -1.60947571   -1.60947571 -141.42135624   -1.60947571   -1.60947571\n",
      " -200.           -1.60947571   -1.60947571 -141.42135624   -1.60947571\n",
      "   -1.60947571 -141.42135624   -1.60947571   -1.60947571 -200.\n",
      "   -1.60947571   -1.60947571 -141.42135624   -1.60947571   -1.60947571\n",
      " -141.42135624   -1.60947571   -1.60947571 -200.           -1.60947571\n",
      "   -1.60947571 -141.42135624   -1.60947571   -1.60947571 -141.42135624\n",
      "   -1.60947571   -1.60947571 -200.           -1.60947571   -1.60947571\n",
      " -141.42135624   -1.60947571   -1.60947571 -141.42135624   -1.60947571\n",
      "   -1.60947571 -200.           -1.60947571   -1.60947571 -141.42135624\n",
      "   -1.60947571   -1.60947571 -141.42135624   -1.60947571   -1.60947571\n",
      " -200.           -1.60947571   -1.60947571 -141.42135624   -1.60947571\n",
      "   -1.60947571 -141.42135624   -1.60947571   -1.60947571 -200.\n",
      "   -1.60947571   -1.60947571 -141.42135624   -1.60947571   -1.60947571\n",
      " -141.42135624   -1.60947571   -1.60947571 -200.           -1.60947571\n",
      "   -1.60947571 -141.42135624   -1.60947571   -1.60947571 -200.\n",
      "   -1.60947571   -1.60947571 -141.42135624   -1.60947571   -1.60947571\n",
      " -200.           -1.60947571   -1.60947571 -141.42135624   -1.60947571\n",
      "   -1.60947571 -200.           -1.60947571   -1.60947571 -141.42135624\n",
      "   -1.60947571   -1.60947571 -200.           -1.60947571   -1.60947571\n",
      " -141.42135624   -1.60947571   -1.60947571 -141.42135624   -1.60947571\n",
      "   -1.60947571 -141.42135624   -1.60947571   -1.60947571 -141.42135624\n",
      "   -1.60947571   -1.60947571 -141.42135624]\n",
      "Global optimization with Manhattan distance took:  0.10031986236572266  seconds.\n",
      "Local optimization with one-by-one interpolation took:  0.0  seconds.\n",
      "Constant epsilon took:  0.004828929901123047  seconds.\n"
     ]
    }
   ],
   "source": [
    "G = build_gluing_map(F)\n",
    "\n",
    "end5 = time.time()\n",
    "\n",
    "FLG, nMollG, nIterG = IntrinsicMollificationFL(FL, G, delta, scheme=MOLLIFICATION_SCHEME.GLOBAL_OPTIMIZATION_MANHATTAN)\n",
    "end6 = time.time()\n",
    "print(\"Global optimization with Manhattan distance took: \", end6 - end5, \" seconds.\")\n",
    "\n",
    "FLL, nMollL, _ = IntrinsicMollificationFL(FL, None, delta, scheme=MOLLIFICATION_SCHEME.LOCAL_SCHEMES, local_scheme=MOLLIFICATION_LOCAL_SCHEME.ONE_BY_ONE_INTERPOLATED)\n",
    "\n",
    "end7 = time.time()\n",
    "print(\"Local optimization with one-by-one interpolation took: \", end7 - end6, \" seconds.\")\n",
    "\n",
    "FLC, nMollC, _ = IntrinsicMollificationFL(FL, None, delta, scheme=MOLLIFICATION_SCHEME.CONSTANT_EPSILON)\n",
    "end8 = time.time()\n",
    "print(\"Constant epsilon took: \", end8 - end7, \" seconds.\")\n"
   ]
  },
  {
   "cell_type": "code",
   "execution_count": 6,
   "metadata": {},
   "outputs": [
    {
     "data": {
      "text/plain": [
       "0.0"
      ]
     },
     "execution_count": 6,
     "metadata": {},
     "output_type": "execute_result"
    }
   ],
   "source": [
    "np.linalg.norm(FLG - FL) / np.linalg.norm(FL)"
   ]
  },
  {
   "cell_type": "code",
   "execution_count": 7,
   "metadata": {},
   "outputs": [
    {
     "data": {
      "text/plain": [
       "0.0"
      ]
     },
     "execution_count": 7,
     "metadata": {},
     "output_type": "execute_result"
    }
   ],
   "source": [
    "np.linalg.norm(FLL - FL)/ np.linalg.norm(FL)"
   ]
  },
  {
   "cell_type": "code",
   "execution_count": 8,
   "metadata": {},
   "outputs": [
    {
     "data": {
      "text/plain": [
       "0.0"
      ]
     },
     "execution_count": 8,
     "metadata": {},
     "output_type": "execute_result"
    }
   ],
   "source": [
    "np.linalg.norm(FLC - FL) / np.linalg.norm(FL)"
   ]
  }
 ],
 "metadata": {
  "kernelspec": {
   "display_name": "Python 3",
   "language": "python",
   "name": "python3"
  },
  "language_info": {
   "codemirror_mode": {
    "name": "ipython",
    "version": 3
   },
   "file_extension": ".py",
   "mimetype": "text/x-python",
   "name": "python",
   "nbconvert_exporter": "python",
   "pygments_lexer": "ipython3",
   "version": "3.10.0"
  },
  "orig_nbformat": 4
 },
 "nbformat": 4,
 "nbformat_minor": 2
}
