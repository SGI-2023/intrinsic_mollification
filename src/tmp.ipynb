{
 "cells": [
  {
   "cell_type": "code",
   "execution_count": 1,
   "metadata": {},
   "outputs": [],
   "source": [
    "from Mollification import *\n",
    "\n",
    "import trimesh\n",
    "import os\n",
    "import time\n",
    "\n",
    "import meshio as mio\n",
    "\n",
    "from buildGlueMap import *\n",
    "\n",
    "root_folder = os.getcwd()"
   ]
  },
  {
   "cell_type": "code",
   "execution_count": 2,
   "metadata": {},
   "outputs": [],
   "source": [
    "G = np.array([[[-1, -1], [-1, -1], [1, 0]], [[0,2], [2, 0], [3, 0]], [[1, 1], [-1, -1], [-1, -1]], [[1, 2], [-1, -1], [-1, -1]]])\n",
    "FL = np.zeros((4, 3))\n",
    "#E2FL = np.array([(0, 0), (0, 1), (0, 2), (1, 1), (2, 2), (2, 1), (1, 2), (3, 1), (3, 2)])\n",
    "E2FL = np.array([[0, 0], [0, 1], [0, 2], [1, 1], [2, 2], [2, 1], [1, 2]])\n",
    "#LE = np.array([0, 1, 2, 3, 4, 5, 6, 7, 8])\n",
    "LE = np.array([0, 1, 2, 3, 4, 5, 6])\n",
    "\n",
    "FL2E = np.array([[[0], [1], [2]], [[2], [3], [6]], [[3], [5], [4]], [[6], [7], [8]]])\n",
    "\n"
   ]
  },
  {
   "cell_type": "code",
   "execution_count": 3,
   "metadata": {},
   "outputs": [
    {
     "name": "stdout",
     "output_type": "stream",
     "text": [
      "[[0. 1. 2.]\n",
      " [0. 3. 6.]\n",
      " [0. 5. 4.]\n",
      " [0. 0. 0.]]\n"
     ]
    }
   ],
   "source": [
    "FL[E2FL[:,0], E2FL[:,1]] = LE\n",
    "print(FL)"
   ]
  },
  {
   "cell_type": "code",
   "execution_count": 4,
   "metadata": {},
   "outputs": [
    {
     "data": {
      "text/plain": [
       "array([False, False,  True,  True, False, False,  True])"
      ]
     },
     "execution_count": 4,
     "metadata": {},
     "output_type": "execute_result"
    }
   ],
   "source": [
    "((G[E2FL[:,0], E2FL[:,1]][:,0] != -1) & (G[E2FL[:,0], E2FL[:,1]][:,1] != -1))"
   ]
  },
  {
   "cell_type": "code",
   "execution_count": 5,
   "metadata": {},
   "outputs": [
    {
     "name": "stdout",
     "output_type": "stream",
     "text": [
      "(array([0, 0, 0, 1, 2, 2, 1]), array([0, 1, 2, 1, 2, 1, 2]))\n"
     ]
    }
   ],
   "source": [
    "FS = (E2FL[:,0], E2FL[:,1])\n",
    "print(FS)"
   ]
  },
  {
   "cell_type": "code",
   "execution_count": 6,
   "metadata": {},
   "outputs": [
    {
     "name": "stdout",
     "output_type": "stream",
     "text": [
      "(array([1, 2, 3]), array([0, 0, 0]))\n"
     ]
    }
   ],
   "source": [
    "FSP = G[FS][((G[FS][:,0] != -1) & (G[FS][:,1] != -1)), :]\n",
    "FSP = (FSP[:, 0], FSP[:, 1])\n",
    "print(FSP)"
   ]
  },
  {
   "cell_type": "code",
   "execution_count": 7,
   "metadata": {},
   "outputs": [
    {
     "name": "stdout",
     "output_type": "stream",
     "text": [
      "[[0. 1. 2.]\n",
      " [2. 3. 6.]\n",
      " [3. 5. 4.]\n",
      " [6. 0. 0.]]\n"
     ]
    }
   ],
   "source": [
    "FL[FSP] = LE[FL2E[FSP]][:,0]\n",
    "print(FL)"
   ]
  },
  {
   "cell_type": "code",
   "execution_count": 8,
   "metadata": {},
   "outputs": [],
   "source": [
    "mesh = mio.read(\"../data/dime_counting_tube.stl\")\n",
    "F = mesh.cells_dict[\"triangle\"]\n",
    "V = mesh.points"
   ]
  },
  {
   "cell_type": "code",
   "execution_count": 9,
   "metadata": {},
   "outputs": [],
   "source": [
    "delta = 1e-2\n",
    "FL = igl.edge_lengths(V, F)"
   ]
  },
  {
   "cell_type": "code",
   "execution_count": 10,
   "metadata": {},
   "outputs": [
    {
     "name": "stdout",
     "output_type": "stream",
     "text": [
      "Global optimization with Manhattan distance took:  0.00997018814086914  seconds.\n",
      "Local optimization with one-by-one interpolation took:  0.0009982585906982422  seconds.\n",
      "Constant epsilon took:  0.0009982585906982422  seconds.\n"
     ]
    }
   ],
   "source": [
    "G = build_gluing_map(F)\n",
    "\n",
    "end5 = time.time()\n",
    "\n",
    "FLG, nMollG, nIterG = IntrinsicMollificationFL(FL, G, delta, scheme=MOLLIFICATION_SCHEME.GLOBAL_OPTIMIZATION_MANHATTAN)\n",
    "end6 = time.time()\n",
    "print(\"Global optimization with Manhattan distance took: \", end6 - end5, \" seconds.\")\n",
    "\n",
    "FLL, nMollL, _ = IntrinsicMollificationFL(FL, None, delta, scheme=MOLLIFICATION_SCHEME.LOCAL_SCHEMES, local_scheme=MOLLIFICATION_LOCAL_SCHEME.ONE_BY_ONE_INTERPOLATED)\n",
    "\n",
    "end7 = time.time()\n",
    "print(\"Local optimization with one-by-one interpolation took: \", end7 - end6, \" seconds.\")\n",
    "\n",
    "FLC, nMollC, _ = IntrinsicMollificationFL(FL, None, delta, scheme=MOLLIFICATION_SCHEME.CONSTANT_EPSILON)\n",
    "end8 = time.time()\n",
    "print(\"Constant epsilon took: \", end8 - end7, \" seconds.\")\n"
   ]
  },
  {
   "cell_type": "code",
   "execution_count": 11,
   "metadata": {},
   "outputs": [
    {
     "data": {
      "text/plain": [
       "0.8320499163879893"
      ]
     },
     "execution_count": 11,
     "metadata": {},
     "output_type": "execute_result"
    }
   ],
   "source": [
    "np.linalg.norm(FLG - FL) / np.linalg.norm(FL)"
   ]
  },
  {
   "cell_type": "code",
   "execution_count": 12,
   "metadata": {},
   "outputs": [
    {
     "data": {
      "text/plain": [
       "0.0016614129683786927"
      ]
     },
     "execution_count": 12,
     "metadata": {},
     "output_type": "execute_result"
    }
   ],
   "source": [
    "np.linalg.norm(FLL - FL)/ np.linalg.norm(FL)"
   ]
  },
  {
   "cell_type": "code",
   "execution_count": 13,
   "metadata": {},
   "outputs": [
    {
     "data": {
      "text/plain": [
       "0.005851617744390041"
      ]
     },
     "execution_count": 13,
     "metadata": {},
     "output_type": "execute_result"
    }
   ],
   "source": [
    "np.linalg.norm(FLC - FL) / np.linalg.norm(FL)"
   ]
  }
 ],
 "metadata": {
  "kernelspec": {
   "display_name": "Python 3",
   "language": "python",
   "name": "python3"
  },
  "language_info": {
   "codemirror_mode": {
    "name": "ipython",
    "version": 3
   },
   "file_extension": ".py",
   "mimetype": "text/x-python",
   "name": "python",
   "nbconvert_exporter": "python",
   "pygments_lexer": "ipython3",
   "version": "3.10.0"
  },
  "orig_nbformat": 4
 },
 "nbformat": 4,
 "nbformat_minor": 2
}
