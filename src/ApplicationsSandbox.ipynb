{
 "cells": [
  {
   "cell_type": "code",
   "execution_count": 1,
   "metadata": {},
   "outputs": [],
   "source": [
    "import numpy as np\n",
    "import scipy as sp\n",
    "import igl\n",
    "import trimesh\n",
    "import polyscope as ps\n",
    "import os\n",
    "\n",
    "from cotanLaplace import *\n",
    "from massmatrix import *\n",
    "from Mollification import *\n",
    "\n",
    "root_folder = os.getcwd()"
   ]
  },
  {
   "cell_type": "markdown",
   "metadata": {},
   "source": [
    "### TODO? Make the demos interactive (e.g. select source vertices for heat geodisics)"
   ]
  },
  {
   "cell_type": "code",
   "execution_count": 5,
   "metadata": {},
   "outputs": [],
   "source": [
    "# [V,F]= igl.read_triangle_mesh(os.path.join(\n",
    "#              root_folder, \"../data/bad_triangle/\", \"holly_wand_complete_letter_A_Print.stl\"))\n",
    "# up_direction = 'z_up'\n",
    "\n",
    "[V,F]= igl.read_triangle_mesh(os.path.join(\n",
    "            root_folder, \"../data\", \"BadConeSeg.obj\"))\n",
    "up_direction = 'y_up'\n",
    "\n",
    "#[V,F]= igl.read_triangle_mesh(os.path.join(\n",
    "#            root_folder, \"../data\", \"spot.obj\"))\n",
    "#up_direction = 'z_up'"
   ]
  },
  {
   "cell_type": "code",
   "execution_count": 6,
   "metadata": {},
   "outputs": [],
   "source": [
    "#init poly scope and show mesh\n",
    "ps.init()\n",
    "ps.set_up_dir(up_direction)\n",
    "ps.set_ground_plane_mode('tile_reflection')\n",
    "#register mesh\n",
    "#mesh = ps.register_surface_mesh(\"mesh\", V, F, color=[0.6, 0.4, 1.0, 1.0], edge_width=0.9, edge_color=[0.2, 0.1, 0.8, 1.0])\n",
    "#ps.show()"
   ]
  },
  {
   "attachments": {},
   "cell_type": "markdown",
   "metadata": {},
   "source": [
    "# Solve Poisson equation (interpolation)"
   ]
  },
  {
   "cell_type": "code",
   "execution_count": 17,
   "metadata": {},
   "outputs": [],
   "source": [
    "# use cotan Laplace and Mass Matrix to solve Lx = -M(rho - rho0)\n",
    "\n",
    "avg_edge_length = igl.avg_edge_length(V, F)\n",
    "delta = 0.0000000000000000001 * avg_edge_length\n",
    "E, eps, newL = IntrinsicMollification(V, F, delta)\n",
    "L = cotanLaplace(F, newL, neg_hack=NEG_HACK.NONE, nan_hack=NAN_HACK.NONE)\n",
    "M = massmatrix(newL, F, MASSMATRIX_TYPE.BARYCENTRIC)\n",
    "\n",
    "# choose 2 random vertex indices\n",
    "v1 = 593203 % V.shape[0]\n",
    "v2 = 131394 % V.shape[0]\n",
    "\n",
    "# rho is a column vector of length V.shape[0] and with all zeros except for rho[v1] and rho[v2]\n",
    "rho = sp.zeros((1, V.shape[0]))\n",
    "rho[:,v1] = 100\n",
    "rho[:,v2] = -100\n",
    "\n",
    "def solvePoisson(L, M, rho):\n",
    "        totArea = sp.sum(M.diagonal())\n",
    "\n",
    "        # rho0 is a column vector of length V.shape[0], with all the same value = sum(rho[i] * M[i,i]) / totArea\n",
    "        rho0 = sp.sum(rho * M.diagonal()) / totArea # this is more general than just summing at the 2 vertices\n",
    "\n",
    "        f = sp.sparse.linalg.spsolve(L, -M.dot(rho.T - rho0.T))\n",
    "\n",
    "        return f\n",
    "\n",
    "f = solvePoisson(L, M, rho)\n",
    "\n",
    "# plot the result\n",
    "mesh = ps.register_surface_mesh(\"mesh\", V, F, color=[0.6, 0.4, 1.0, 1.0])\n",
    "mesh.add_scalar_quantity(\"f\", \n",
    "        f, defined_on='vertices', cmap=\"viridis\")\n",
    "\n",
    "ps.show()\n",
    "\n",
    "\n"
   ]
  },
  {
   "attachments": {},
   "cell_type": "markdown",
   "metadata": {},
   "source": [
    "## Mesh Smoothing"
   ]
  },
  {
   "cell_type": "code",
   "execution_count": 26,
   "metadata": {},
   "outputs": [
    {
     "name": "stdout",
     "output_type": "stream",
     "text": [
      "Smoothing iteration:  1\n",
      "Smoothing iteration:  2\n",
      "Smoothing iteration:  3\n",
      "Smoothing iteration:  4\n",
      "Smoothing iteration:  5\n",
      "Smoothing iteration:  6\n",
      "Smoothing iteration:  7\n",
      "Smoothing iteration:  8\n",
      "Smoothing iteration:  9\n",
      "Smoothing iteration:  10\n",
      "Smoothing iteration:  11\n",
      "Smoothing iteration:  12\n",
      "Smoothing iteration:  13\n",
      "Smoothing iteration:  14\n",
      "Smoothing iteration:  15\n",
      "Smoothing iteration:  16\n",
      "Smoothing iteration:  17\n",
      "Smoothing iteration:  18\n",
      "Smoothing iteration:  19\n",
      "Smoothing iteration:  20\n",
      "Smoothing iteration:  21\n",
      "Smoothing iteration:  22\n",
      "Smoothing iteration:  23\n",
      "Smoothing iteration:  24\n",
      "Smoothing iteration:  25\n",
      "Smoothing iteration:  26\n",
      "Smoothing iteration:  27\n",
      "Smoothing iteration:  28\n",
      "Smoothing iteration:  29\n",
      "Smoothing iteration:  30\n",
      "Smoothing iteration:  31\n",
      "Smoothing iteration:  32\n",
      "Smoothing iteration:  33\n",
      "Smoothing iteration:  34\n",
      "Smoothing iteration:  35\n",
      "Smoothing iteration:  36\n",
      "Smoothing iteration:  37\n",
      "Smoothing iteration:  38\n",
      "Smoothing iteration:  39\n",
      "Smoothing iteration:  40\n",
      "Smoothing iteration:  41\n",
      "Smoothing iteration:  42\n",
      "Smoothing iteration:  43\n",
      "Smoothing iteration:  44\n",
      "Smoothing iteration:  45\n",
      "Smoothing iteration:  46\n",
      "Smoothing iteration:  47\n",
      "Smoothing iteration:  48\n",
      "Smoothing iteration:  49\n",
      "Smoothing iteration:  50\n",
      "Smoothing iteration:  51\n",
      "Smoothing iteration:  52\n",
      "Smoothing iteration:  53\n",
      "Smoothing iteration:  54\n",
      "Smoothing iteration:  55\n",
      "Smoothing iteration:  56\n",
      "Smoothing iteration:  57\n",
      "Smoothing iteration:  58\n",
      "Smoothing iteration:  59\n",
      "Smoothing iteration:  60\n",
      "Smoothing iteration:  61\n",
      "Smoothing iteration:  62\n",
      "Smoothing iteration:  63\n",
      "Smoothing iteration:  64\n",
      "Smoothing iteration:  65\n",
      "Smoothing iteration:  66\n",
      "Smoothing iteration:  67\n",
      "Smoothing iteration:  68\n",
      "Smoothing iteration:  69\n",
      "Smoothing iteration:  70\n",
      "Smoothing iteration:  71\n",
      "Smoothing iteration:  72\n",
      "Smoothing iteration:  73\n",
      "Smoothing iteration:  74\n",
      "Smoothing iteration:  75\n",
      "Smoothing iteration:  76\n",
      "Smoothing iteration:  77\n",
      "Smoothing iteration:  78\n",
      "Smoothing iteration:  79\n",
      "Smoothing iteration:  80\n",
      "Smoothing iteration:  81\n",
      "Smoothing iteration:  82\n",
      "Smoothing iteration:  83\n",
      "Smoothing iteration:  84\n",
      "Smoothing iteration:  85\n",
      "Smoothing iteration:  86\n",
      "Smoothing iteration:  87\n",
      "Smoothing iteration:  88\n",
      "Smoothing iteration:  89\n",
      "Smoothing iteration:  90\n",
      "Smoothing iteration:  91\n",
      "Smoothing iteration:  92\n",
      "Smoothing iteration:  93\n",
      "Smoothing iteration:  94\n",
      "Smoothing iteration:  95\n",
      "Smoothing iteration:  96\n",
      "Smoothing iteration:  97\n",
      "Smoothing iteration:  98\n",
      "Smoothing iteration:  99\n",
      "Smoothing iteration:  100\n"
     ]
    },
    {
     "ename": "KeyboardInterrupt",
     "evalue": "",
     "output_type": "error",
     "traceback": [
      "\u001b[1;31m---------------------------------------------------------------------------\u001b[0m",
      "\u001b[1;31mKeyboardInterrupt\u001b[0m                         Traceback (most recent call last)",
      "Cell \u001b[1;32mIn[26], line 38\u001b[0m\n\u001b[0;32m     34\u001b[0m         \u001b[39mprint\u001b[39m(\u001b[39m\"\u001b[39m\u001b[39mSmoothing iteration: \u001b[39m\u001b[39m\"\u001b[39m, t)\n\u001b[0;32m     36\u001b[0m ps\u001b[39m.\u001b[39mset_user_callback(smooth)\n\u001b[1;32m---> 38\u001b[0m ps\u001b[39m.\u001b[39;49mshow()\n\u001b[0;32m     40\u001b[0m ps\u001b[39m.\u001b[39mclear_user_callback()\n",
      "File \u001b[1;32mc:\\Users\\Hossam Saeed\\AppData\\Local\\Programs\\Python\\Python311\\Lib\\site-packages\\polyscope\\core.py:24\u001b[0m, in \u001b[0;36mshow\u001b[1;34m(forFrames)\u001b[0m\n\u001b[0;32m     22\u001b[0m \u001b[39m\u001b[39m\u001b[39m\"\"\"Show the Polyscope GUI (blocks until UI is exited)\"\"\"\u001b[39;00m\n\u001b[0;32m     23\u001b[0m \u001b[39mif\u001b[39;00m forFrames \u001b[39mis\u001b[39;00m \u001b[39mNone\u001b[39;00m:\n\u001b[1;32m---> 24\u001b[0m     psb\u001b[39m.\u001b[39;49mshow()\n\u001b[0;32m     25\u001b[0m \u001b[39melse\u001b[39;00m:\n\u001b[0;32m     26\u001b[0m     psb\u001b[39m.\u001b[39mshow(forFrames)\n",
      "\u001b[1;31mKeyboardInterrupt\u001b[0m: "
     ]
    }
   ],
   "source": [
    "# use cotan Laplace matrix for smoothing\n",
    "# solving (M - h * L) Vnew = M * Vold\n",
    "\n",
    "mesh = ps.register_surface_mesh(\"mesh\", V, F, color=[0.6, 0.4, 1.0, 1.0])\n",
    "avg_edge_length = igl.avg_edge_length(V, F)\n",
    "delta = 0.005 * avg_edge_length\n",
    "E, eps, newL = IntrinsicMollification(V, F, delta)\n",
    "L = cotanLaplace(F, newL, neg_hack=NEG_HACK.NONE, nan_hack=NAN_HACK.NONE)\n",
    "\n",
    "#L = igl.cotmatrix(V, F)\n",
    "h = 0.5 * avg_edge_length\n",
    "\n",
    "t = 0\n",
    "n = 100\n",
    "\n",
    "def smooth():\n",
    "    global t\n",
    "    global n\n",
    "    global V\n",
    "    global mesh\n",
    "\n",
    "    if t < n:\n",
    "        newL = igl.edge_lengths(V, F)\n",
    "        M = massmatrix(newL, F, MASSMATRIX_TYPE.BARYCENTRIC)\n",
    "        #M = igl.massmatrix(V, F, igl.MASSMATRIX_TYPE_BARYCENTRIC)\n",
    "        #M = igl.massmatrix_intrinsic(newL, F, igl.MASSMATRIX_TYPE_BARYCENTRIC)\n",
    "        A = M - h * L\n",
    "\n",
    "        for i in range(3):\n",
    "            V[:,i] = sp.sparse.linalg.spsolve(A, M.dot(V[:,i])) # Todo look for a way to use a positive semi-definite solver\n",
    "\n",
    "        mesh.update_vertex_positions(V)\n",
    "        t += 1\n",
    "        print(\"Smoothing iteration: \", t)\n",
    "\n",
    "ps.set_user_callback(smooth)\n",
    "\n",
    "ps.show()\n",
    "\n",
    "ps.clear_user_callback()\n",
    "\n"
   ]
  },
  {
   "cell_type": "markdown",
   "metadata": {},
   "source": [
    "## Next: Heat Method for Geodesic Distances"
   ]
  },
  {
   "cell_type": "code",
   "execution_count": null,
   "metadata": {},
   "outputs": [],
   "source": []
  },
  {
   "cell_type": "code",
   "execution_count": 27,
   "metadata": {},
   "outputs": [
    {
     "name": "stdout",
     "output_type": "stream",
     "text": [
      "0.08031036303393863\n",
      "[0. 0. 0. ... 0. 0. 0.]\n",
      "119.54078801814885\n"
     ]
    }
   ],
   "source": [
    "# L = igl.cotmatrix(V, F)\n",
    "# M = igl.massmatrix(V, F, igl.MASSMATRIX_TYPE_VORONOI)\n",
    "# h = 0.005\n",
    "# A = M + h * L\n",
    "\n",
    "# print(sp.sparse.linalg.norm(M))\n",
    "# I = sp.sparse.identity(M.shape[0])\n",
    "# print(I.dot(V[:, 0]) - V[:, 0])\n",
    "# print(sp.sparse.linalg.norm(sp.sparse.identity(M.shape[0])))\n"
   ]
  },
  {
   "cell_type": "code",
   "execution_count": 12,
   "metadata": {},
   "outputs": [
    {
     "name": "stdout",
     "output_type": "stream",
     "text": [
      "6.928722052989442e-18\n",
      "0.0\n"
     ]
    }
   ],
   "source": [
    "L = igl.edge_lengths(V, F)         # columns correspond to edges lengths [1,2],[2,0],[0,1]\n",
    "\n",
    "M_ours_i = massmatrix(L, F, MASSMATRIX_TYPE.BARYCENTRIC).todense()\n",
    "M_igl = igl.massmatrix(V, F, igl.MASSMATRIX_TYPE_BARYCENTRIC).todense()\n",
    "M_igl_i = igl.massmatrix_intrinsic(L, F, igl.MASSMATRIX_TYPE_BARYCENTRIC).todense()\n",
    "print(np.linalg.norm(M_ours_i - M_igl_i))\n",
    "print(np.linalg.norm(M_igl - M_igl_i))\n"
   ]
  }
 ],
 "metadata": {
  "kernelspec": {
   "display_name": "Python 3",
   "language": "python",
   "name": "python3"
  },
  "language_info": {
   "codemirror_mode": {
    "name": "ipython",
    "version": 3
   },
   "file_extension": ".py",
   "mimetype": "text/x-python",
   "name": "python",
   "nbconvert_exporter": "python",
   "pygments_lexer": "ipython3",
   "version": "3.10.0"
  },
  "orig_nbformat": 4
 },
 "nbformat": 4,
 "nbformat_minor": 2
}
