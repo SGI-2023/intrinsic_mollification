{
 "cells": [
  {
   "cell_type": "code",
   "execution_count": 1,
   "metadata": {},
   "outputs": [],
   "source": [
    "import numpy as np\n",
    "import scipy as sp\n",
    "import igl\n",
    "import trimesh\n",
    "import polyscope as ps\n",
    "import os\n",
    "import meshio as mio\n",
    "\n",
    "\n",
    "from cotanLaplace import *\n",
    "from massmatrix import *\n",
    "from Mollification import *\n",
    "from ex_lscm import *\n",
    "\n",
    "root_folder = os.getcwd()"
   ]
  },
  {
   "cell_type": "markdown",
   "metadata": {},
   "source": [
    "### TODO? Make the demos interactive (e.g. select source vertices for heat geodisics)"
   ]
  },
  {
   "cell_type": "code",
   "execution_count": 2,
   "metadata": {},
   "outputs": [],
   "source": [
    "# read paths from a text file, each line is a path\n",
    "paths = []\n",
    "# make sure encoding = \"utf-16 le\" for the tooNiceMeshPaths.txt file\n",
    "\n",
    "\n",
    "with open(\"filtering-thing10k/veryBadMeshPaths.txt\", \"r\", encoding=\"utf-16\") as f:\n",
    "    for line in f:\n",
    "        paths.append(line.strip())\n",
    "\n",
    "import random\n",
    "i = random.randint(0, len(paths))\n"
   ]
  },
  {
   "cell_type": "code",
   "execution_count": 3,
   "metadata": {},
   "outputs": [],
   "source": [
    "#mesh = mio.read(\"../../GC/\" + paths[i])\n",
    "mesh = mio.read(\"../data/goathead.obj\")\n",
    "F = mesh.cells_dict[\"triangle\"]\n",
    "V = mesh.points\n"
   ]
  },
  {
   "cell_type": "code",
   "execution_count": 7,
   "metadata": {},
   "outputs": [],
   "source": [
    "# [V,F]= igl.read_triangle_mesh(os.path.join(\n",
    "#              root_folder, \"../data/bad_triangle/\", \"holly_wand_complete_letter_A_Print.stl\"))\n",
    "# up_direction = 'z_up'\n",
    "\n",
    "# [V,F]= igl.read_triangle_mesh(os.path.join(\n",
    "#             root_folder, \"../data\", \"BadConeSeg.obj\"))\n",
    "up_direction = 'y_up'\n",
    "\n",
    "#[V,F]= igl.read_triangle_mesh(os.path.join(\n",
    "#            root_folder, \"../data\", \"spot.obj\"))\n",
    "#up_direction = 'z_up'"
   ]
  },
  {
   "cell_type": "code",
   "execution_count": 8,
   "metadata": {},
   "outputs": [],
   "source": [
    "#init poly scope and show mesh\n",
    "ps.init()\n",
    "ps.set_up_dir(up_direction)\n",
    "ps.set_ground_plane_mode('tile_reflection')\n",
    "#register mesh\n",
    "#mesh = ps.register_surface_mesh(\"mesh\", V, F, color=[0.6, 0.4, 1.0, 1.0], edge_width=0.9, edge_color=[0.2, 0.1, 0.8, 1.0])\n",
    "#ps.show()"
   ]
  },
  {
   "attachments": {},
   "cell_type": "markdown",
   "metadata": {},
   "source": [
    "# Solve Poisson equation (interpolation)"
   ]
  },
  {
   "cell_type": "code",
   "execution_count": 55,
   "metadata": {},
   "outputs": [
    {
     "name": "stdout",
     "output_type": "stream",
     "text": [
      "9.88075e-07 9.25489354133606e-06\n"
     ]
    },
    {
     "name": "stderr",
     "output_type": "stream",
     "text": [
      "C:\\Users\\Hossam Saeed\\AppData\\Local\\Temp/ipykernel_12536/1987845402.py:21: DeprecationWarning: scipy.zeros is deprecated and will be removed in SciPy 2.0.0, use numpy.zeros instead\n",
      "  rho = sp.zeros((1, V.shape[0]))\n",
      "C:\\Users\\Hossam Saeed\\AppData\\Local\\Temp/ipykernel_12536/1987845402.py:26: DeprecationWarning: scipy.sum is deprecated and will be removed in SciPy 2.0.0, use numpy.sum instead\n",
      "  totArea = sp.sum(M.diagonal())\n",
      "C:\\Users\\Hossam Saeed\\AppData\\Local\\Temp/ipykernel_12536/1987845402.py:29: DeprecationWarning: scipy.sum is deprecated and will be removed in SciPy 2.0.0, use numpy.sum instead\n",
      "  rho0 = sp.sum(rho * M.diagonal()) / totArea # this is more general than just summing at the 2 vertices\n"
     ]
    }
   ],
   "source": [
    "# use cotan Laplace and Mass Matrix to solve Lx = -M(rho - rho0)\n",
    "\n",
    "delta = 1e-4\n",
    "#newL = igl.edge_lengths(V, F)\n",
    "#newL, _, _ = IntrinsicMollification(V, F, delta, scheme=MOLLIFICATION_SCHEME.CONSTANT_EPSILON)\n",
    "newL, _, _ = IntrinsicMollification(V, F, delta, scheme=MOLLIFICATION_SCHEME.LOCAL_SCHEMES, local_scheme=MOLLIFICATION_LOCAL_SCHEME.ONE_BY_ONE_STEP)\n",
    "#newL, _, _ = IntrinsicMollification(V, F, delta, scheme=MOLLIFICATION_SCHEME.LOCAL_SCHEMES, local_scheme=MOLLIFICATION_LOCAL_SCHEME.ONE_BY_ONE_INTERPOLATED)\n",
    "#newL, _, _ = IntrinsicMollification(V, F, delta, scheme=MOLLIFICATION_SCHEME.LOCAL_SCHEMES, local_scheme=MOLLIFICATION_LOCAL_SCHEME.LOCAL_LEAST_MOLLIFICATION_MANHATTAN)\n",
    "#newL, _, _ = IntrinsicMollification(V, F, delta, scheme=MOLLIFICATION_SCHEME.LOCAL_SCHEMES, local_scheme=MOLLIFICATION_LOCAL_SCHEME.LOCAL_LEAST_MOLLIFICATION_EUCLIDEAN)\n",
    "#newL, _, _ = IntrinsicMollification(V, F, delta, scheme=MOLLIFICATION_SCHEME.GLOBAL_OPTIMIZATION_MANHATTAN)\n",
    "#newL, _, _ = IntrinsicMollification(V, F, delta, scheme=MOLLIFICATION_SCHEME.GLOBAL_OPTIMIZATION_EUCLIDEAN)\n",
    "\n",
    "L = cotanLaplace(F, newL, neg_hack=NEG_HACK.NONE, nan_hack=NAN_HACK.NONE)\n",
    "M = massmatrix(newL, F, MASSMATRIX_TYPE.BARYCENTRIC)\n",
    "\n",
    "# choose 2 random vertex indices\n",
    "v1 = (593203+14) % V.shape[0]\n",
    "v2 = 131394 % V.shape[0]\n",
    "\n",
    "# rho is a column vector of length V.shape[0] and with all zeros except for rho[v1] and rho[v2]\n",
    "rho = sp.zeros((1, V.shape[0]))\n",
    "rho[:,v1] = 100\n",
    "rho[:,v2] = -100\n",
    "\n",
    "def solvePoisson(L, M, rho):\n",
    "        totArea = sp.sum(M.diagonal())\n",
    "\n",
    "        # rho0 is a column vector of length V.shape[0], with all the same value = sum(rho[i] * M[i,i]) / totArea\n",
    "        rho0 = sp.sum(rho * M.diagonal()) / totArea # this is more general than just summing at the 2 vertices\n",
    "\n",
    "        f = sp.sparse.linalg.spsolve(L, -M.dot(rho.T - rho0.T))\n",
    "\n",
    "        return f\n",
    "\n",
    "f = solvePoisson(L, M, rho)\n",
    "\n",
    "# plot the result\n",
    "mesh = ps.register_surface_mesh(\"mesh\", V, F, color=[0.6, 0.4, 1.0, 1.0])\n",
    "mesh.add_scalar_quantity(\"f\", \n",
    "        f, defined_on='vertices', cmap=\"viridis\")\n",
    "\n",
    "ps.show()\n",
    "\n",
    "\n"
   ]
  },
  {
   "attachments": {},
   "cell_type": "markdown",
   "metadata": {},
   "source": [
    "## Mesh Smoothing"
   ]
  },
  {
   "cell_type": "code",
   "execution_count": 66,
   "metadata": {},
   "outputs": [
    {
     "name": "stdout",
     "output_type": "stream",
     "text": [
      "Smoothing iteration:  1\n",
      "Smoothing iteration:  2\n",
      "Smoothing iteration:  3\n",
      "Smoothing iteration:  4\n",
      "Smoothing iteration:  5\n",
      "Smoothing iteration:  6\n",
      "Smoothing iteration:  7\n",
      "Smoothing iteration:  8\n",
      "Smoothing iteration:  9\n",
      "Smoothing iteration:  10\n"
     ]
    }
   ],
   "source": [
    "# use cotan Laplace matrix for smoothing\n",
    "# solving (M - h * L) Vnew = M * Vold\n",
    "\n",
    "mesh = ps.register_surface_mesh(\"mesh\", V, F, color=[0.6, 0.4, 1.0, 1.0])\n",
    "avg_edge_length = igl.avg_edge_length(V, F)\n",
    "delta = 0.0001\n",
    "E, eps, newL = IntrinsicMollificationConstant(V, F, delta)\n",
    "L = cotanLaplace(F, newL, neg_hack=NEG_HACK.NONE, nan_hack=NAN_HACK.NONE)\n",
    "\n",
    "#L = igl.cotmatrix(V, F)\n",
    "h = 0.5 * avg_edge_length\n",
    "\n",
    "t = 0\n",
    "n = 4\n",
    "\n",
    "def smooth():\n",
    "    global t\n",
    "    global n\n",
    "    global V\n",
    "    global mesh\n",
    "\n",
    "    if t < n:\n",
    "        newL = igl.edge_lengths(V, F)\n",
    "        M = massmatrix(newL, F, MASSMATRIX_TYPE.BARYCENTRIC)\n",
    "        #M = igl.massmatrix(V, F, igl.MASSMATRIX_TYPE_BARYCENTRIC)\n",
    "        #M = igl.massmatrix_intrinsic(newL, F, igl.MASSMATRIX_TYPE_BARYCENTRIC)\n",
    "        A = M - h * L\n",
    "\n",
    "        for i in range(3):\n",
    "            V[:,i] = sp.sparse.linalg.spsolve(A, M.dot(V[:,i])) # Todo look for a way to use a positive semi-definite solver\n",
    "\n",
    "        mesh.update_vertex_positions(V)\n",
    "        t += 1\n",
    "        print(\"Smoothing iteration: \", t)\n",
    "\n",
    "ps.set_user_callback(smooth)\n",
    "\n",
    "ps.show()\n",
    "\n",
    "ps.clear_user_callback()\n",
    "\n"
   ]
  },
  {
   "cell_type": "markdown",
   "metadata": {},
   "source": [
    "## SCP"
   ]
  },
  {
   "cell_type": "code",
   "execution_count": 4,
   "metadata": {},
   "outputs": [
    {
     "ename": "TypeError",
     "evalue": "object of type 'numpy.complex128' has no len()",
     "output_type": "error",
     "traceback": [
      "\u001b[1;31m---------------------------------------------------------------------------\u001b[0m",
      "\u001b[1;31mTypeError\u001b[0m                                 Traceback (most recent call last)",
      "\u001b[1;32m~\\AppData\\Local\\Temp/ipykernel_6740/3251132912.py\u001b[0m in \u001b[0;36m<module>\u001b[1;34m\u001b[0m\n\u001b[1;32m----> 1\u001b[1;33m \u001b[0mV_uv\u001b[0m \u001b[1;33m=\u001b[0m \u001b[0mscp\u001b[0m\u001b[1;33m(\u001b[0m\u001b[0mV\u001b[0m\u001b[1;33m,\u001b[0m \u001b[0mF\u001b[0m\u001b[1;33m)\u001b[0m\u001b[1;33m[\u001b[0m\u001b[1;33m-\u001b[0m\u001b[1;36m1\u001b[0m\u001b[1;33m]\u001b[0m\u001b[1;33m\u001b[0m\u001b[1;33m\u001b[0m\u001b[0m\n\u001b[0m\u001b[0;32m      2\u001b[0m \u001b[1;33m\u001b[0m\u001b[0m\n\u001b[0;32m      3\u001b[0m \u001b[1;31m# get the magnitude of each complex number in\u001b[0m\u001b[1;33m\u001b[0m\u001b[1;33m\u001b[0m\u001b[0m\n\u001b[0;32m      4\u001b[0m \u001b[1;31m#print(np.norm(np.imag(V_uv)))\u001b[0m\u001b[1;33m\u001b[0m\u001b[1;33m\u001b[0m\u001b[0m\n\u001b[0;32m      5\u001b[0m \u001b[1;33m\u001b[0m\u001b[0m\n",
      "\u001b[1;32md:\\4B\\intrinsic_mollification\\src\\ex_lscm.py\u001b[0m in \u001b[0;36mscp\u001b[1;34m(V, F)\u001b[0m\n\u001b[0;32m    111\u001b[0m \u001b[1;33m\u001b[0m\u001b[0m\n\u001b[0;32m    112\u001b[0m     \u001b[1;31m# v_uv = secondSmallEigVec.reshape(-1, 2)\u001b[0m\u001b[1;33m\u001b[0m\u001b[1;33m\u001b[0m\u001b[0m\n\u001b[1;32m--> 113\u001b[1;33m     \u001b[0mvec_len\u001b[0m \u001b[1;33m=\u001b[0m \u001b[0mlen\u001b[0m\u001b[1;33m(\u001b[0m\u001b[0msecondSmallEigVal\u001b[0m\u001b[1;33m)\u001b[0m\u001b[1;33m\u001b[0m\u001b[1;33m\u001b[0m\u001b[0m\n\u001b[0m\u001b[0;32m    114\u001b[0m     \u001b[0mx_vals\u001b[0m \u001b[1;33m=\u001b[0m \u001b[0msecondSmallEigVal\u001b[0m\u001b[1;33m[\u001b[0m\u001b[1;33m:\u001b[0m\u001b[0mint\u001b[0m\u001b[1;33m(\u001b[0m\u001b[0mvec_len\u001b[0m\u001b[1;33m//\u001b[0m\u001b[1;36m2\u001b[0m\u001b[1;33m)\u001b[0m\u001b[1;33m]\u001b[0m\u001b[1;33m.\u001b[0m\u001b[0mreshape\u001b[0m\u001b[1;33m(\u001b[0m\u001b[1;33m-\u001b[0m\u001b[1;36m1\u001b[0m\u001b[1;33m,\u001b[0m \u001b[1;36m1\u001b[0m\u001b[1;33m)\u001b[0m\u001b[1;33m\u001b[0m\u001b[1;33m\u001b[0m\u001b[0m\n\u001b[0;32m    115\u001b[0m     \u001b[0my_vals\u001b[0m \u001b[1;33m=\u001b[0m \u001b[0msecondSmallEigVal\u001b[0m\u001b[1;33m[\u001b[0m\u001b[0mint\u001b[0m\u001b[1;33m(\u001b[0m\u001b[0mvec_len\u001b[0m\u001b[1;33m//\u001b[0m\u001b[1;36m2\u001b[0m\u001b[1;33m)\u001b[0m\u001b[1;33m:\u001b[0m\u001b[1;33m]\u001b[0m\u001b[1;33m.\u001b[0m\u001b[0mreshape\u001b[0m\u001b[1;33m(\u001b[0m\u001b[1;33m-\u001b[0m\u001b[1;36m1\u001b[0m\u001b[1;33m,\u001b[0m \u001b[1;36m1\u001b[0m\u001b[1;33m)\u001b[0m\u001b[1;33m\u001b[0m\u001b[1;33m\u001b[0m\u001b[0m\n",
      "\u001b[1;31mTypeError\u001b[0m: object of type 'numpy.complex128' has no len()"
     ]
    }
   ],
   "source": [
    "V_uv = scp(V, F)[-1]\n",
    "\n",
    "# get the magnitude of each complex number in\n",
    "#print(np.norm(np.imag(V_uv)))\n",
    "\n",
    "# change V_uv from complex to real\n",
    "#V_uv = np.real(V_uv)\n",
    "\n",
    "print(\"V_uv: \", V_uv)"
   ]
  },
  {
   "cell_type": "code",
   "execution_count": 10,
   "metadata": {},
   "outputs": [
    {
     "name": "stdout",
     "output_type": "stream",
     "text": [
      "(2439, 3) (2439, 2)\n"
     ]
    }
   ],
   "source": [
    "print(np.shape(V), np.shape(V_uv))"
   ]
  },
  {
   "cell_type": "code",
   "execution_count": 10,
   "metadata": {},
   "outputs": [
    {
     "data": {
      "text/plain": [
       "(1.146114374807527, 2.0227012931140624, 1.0025137833801805)"
      ]
     },
     "execution_count": 10,
     "metadata": {},
     "output_type": "execute_result"
    }
   ],
   "source": [
    "quasi_conformal_error(V, F, V_uv)"
   ]
  },
  {
   "cell_type": "code",
   "execution_count": 6,
   "metadata": {},
   "outputs": [],
   "source": [
    "mesh = ps.register_surface_mesh(\"mesh\", V_uv, F, color=[0.6, 0.4, 1.0, 1.0])\n",
    "\n",
    "ps.show()"
   ]
  },
  {
   "cell_type": "markdown",
   "metadata": {},
   "source": [
    "## Next: Heat Method for Geodesic Distances"
   ]
  },
  {
   "cell_type": "code",
   "execution_count": null,
   "metadata": {},
   "outputs": [],
   "source": []
  },
  {
   "cell_type": "code",
   "execution_count": 27,
   "metadata": {},
   "outputs": [
    {
     "name": "stdout",
     "output_type": "stream",
     "text": [
      "0.08031036303393863\n",
      "[0. 0. 0. ... 0. 0. 0.]\n",
      "119.54078801814885\n"
     ]
    }
   ],
   "source": [
    "# L = igl.cotmatrix(V, F)\n",
    "# M = igl.massmatrix(V, F, igl.MASSMATRIX_TYPE_VORONOI)\n",
    "# h = 0.005\n",
    "# A = M + h * L\n",
    "\n",
    "# print(sp.sparse.linalg.norm(M))\n",
    "# I = sp.sparse.identity(M.shape[0])\n",
    "# print(I.dot(V[:, 0]) - V[:, 0])\n",
    "# print(sp.sparse.linalg.norm(sp.sparse.identity(M.shape[0])))\n"
   ]
  },
  {
   "cell_type": "code",
   "execution_count": null,
   "metadata": {},
   "outputs": [],
   "source": []
  },
  {
   "cell_type": "code",
   "execution_count": 12,
   "metadata": {},
   "outputs": [
    {
     "name": "stdout",
     "output_type": "stream",
     "text": [
      "6.928722052989442e-18\n",
      "0.0\n"
     ]
    }
   ],
   "source": [
    "L = igl.edge_lengths(V, F)         # columns correspond to edges lengths [1,2],[2,0],[0,1]\n",
    "\n",
    "M_ours_i = massmatrix(L, F, MASSMATRIX_TYPE.BARYCENTRIC).todense()\n",
    "M_igl = igl.massmatrix(V, F, igl.MASSMATRIX_TYPE_BARYCENTRIC).todense()\n",
    "M_igl_i = igl.massmatrix_intrinsic(L, F, igl.MASSMATRIX_TYPE_BARYCENTRIC).todense()\n",
    "print(np.linalg.norm(M_ours_i - M_igl_i))\n",
    "print(np.linalg.norm(M_igl - M_igl_i))\n"
   ]
  }
 ],
 "metadata": {
  "kernelspec": {
   "display_name": "Python 3",
   "language": "python",
   "name": "python3"
  },
  "language_info": {
   "codemirror_mode": {
    "name": "ipython",
    "version": 3
   },
   "file_extension": ".py",
   "mimetype": "text/x-python",
   "name": "python",
   "nbconvert_exporter": "python",
   "pygments_lexer": "ipython3",
   "version": "3.10.0"
  },
  "orig_nbformat": 4
 },
 "nbformat": 4,
 "nbformat_minor": 2
}
