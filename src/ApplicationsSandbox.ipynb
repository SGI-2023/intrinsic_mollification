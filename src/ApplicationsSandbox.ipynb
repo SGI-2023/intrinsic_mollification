{
 "cells": [
  {
   "cell_type": "code",
   "execution_count": 2,
   "metadata": {},
   "outputs": [],
   "source": [
    "import numpy as np\n",
    "import scipy as sp\n",
    "import igl\n",
    "import trimesh\n",
    "import polyscope as ps\n",
    "import os\n",
    "\n",
    "root_folder = os.getcwd()"
   ]
  },
  {
   "cell_type": "markdown",
   "metadata": {},
   "source": [
    "### TODO? Make the demos interactive (e.g. select source vertices for heat geodisics)"
   ]
  },
  {
   "cell_type": "code",
   "execution_count": 3,
   "metadata": {},
   "outputs": [],
   "source": [
    "[V,F]= igl.read_triangle_mesh(os.path.join(\n",
    "            root_folder, \"../data\", \"spot.obj\"))"
   ]
  },
  {
   "cell_type": "code",
   "execution_count": 4,
   "metadata": {},
   "outputs": [],
   "source": [
    "#init poly scope and show mesh\n",
    "ps.init()\n",
    "ps.set_up_dir('z_up')\n",
    "ps.set_ground_plane_mode('tile_reflection')\n",
    "\n",
    "#register mesh\n",
    "bunny = ps.register_surface_mesh(\"bunny\", V, F, color=[0.6, 0.4, 1.0, 1.0], edge_width=0.9, edge_color=[0.2, 0.1, 0.8, 1.0])\n",
    "#ps.show()"
   ]
  },
  {
   "attachments": {},
   "cell_type": "markdown",
   "metadata": {},
   "source": [
    "# Solve Poisson equation (interpolation)"
   ]
  },
  {
   "cell_type": "code",
   "execution_count": null,
   "metadata": {},
   "outputs": [],
   "source": []
  },
  {
   "attachments": {},
   "cell_type": "markdown",
   "metadata": {},
   "source": [
    "## Mesh Smoothing"
   ]
  },
  {
   "cell_type": "code",
   "execution_count": 5,
   "metadata": {},
   "outputs": [
    {
     "name": "stdout",
     "output_type": "stream",
     "text": [
      "Smoothing iteration:  1\n",
      "Smoothing iteration:  2\n",
      "Smoothing iteration:  3\n",
      "Smoothing iteration:  4\n",
      "Smoothing iteration:  5\n",
      "Smoothing iteration:  6\n",
      "Smoothing iteration:  7\n",
      "Smoothing iteration:  8\n",
      "Smoothing iteration:  9\n",
      "Smoothing iteration:  10\n",
      "Smoothing iteration:  11\n",
      "Smoothing iteration:  12\n",
      "Smoothing iteration:  13\n",
      "Smoothing iteration:  14\n",
      "Smoothing iteration:  15\n"
     ]
    }
   ],
   "source": [
    "# use cotan Laplace matrix for smoothing\n",
    "\n",
    "L = igl.cotmatrix(V, F)\n",
    "h = igl.avg_edge_length(V, F) * 0.1\n",
    "\n",
    "t = 0\n",
    "n = 15\n",
    "\n",
    "def smooth():\n",
    "    global t\n",
    "    global n\n",
    "    global V\n",
    "    global bunny\n",
    "\n",
    "    if t < n:\n",
    "        M = igl.massmatrix(V, F, igl.MASSMATRIX_TYPE_VORONOI)\n",
    "        A = M - h * L\n",
    "\n",
    "        for i in range(3):\n",
    "            V[:,i] = sp.sparse.linalg.spsolve(A, M.dot(V[:,i])) # Todo look for a way to use a positive semi-definite solver\n",
    "\n",
    "        bunny.update_vertex_positions(V)\n",
    "        t += 1\n",
    "        print(\"Smoothing iteration: \", t)\n",
    "\n",
    "ps.set_user_callback(smooth)\n",
    "\n",
    "ps.show()\n",
    "\n",
    "ps.clear_user_callback()\n",
    "\n"
   ]
  },
  {
   "cell_type": "code",
   "execution_count": 27,
   "metadata": {},
   "outputs": [
    {
     "name": "stdout",
     "output_type": "stream",
     "text": [
      "0.08031036303393863\n",
      "[0. 0. 0. ... 0. 0. 0.]\n",
      "119.54078801814885\n"
     ]
    }
   ],
   "source": [
    "# L = igl.cotmatrix(V, F)\n",
    "# M = igl.massmatrix(V, F, igl.MASSMATRIX_TYPE_VORONOI)\n",
    "# h = 0.005\n",
    "# A = M + h * L\n",
    "\n",
    "# print(sp.sparse.linalg.norm(M))\n",
    "# I = sp.sparse.identity(M.shape[0])\n",
    "# print(I.dot(V[:, 0]) - V[:, 0])\n",
    "# print(sp.sparse.linalg.norm(sp.sparse.identity(M.shape[0])))\n"
   ]
  }
 ],
 "metadata": {
  "kernelspec": {
   "display_name": "Python 3",
   "language": "python",
   "name": "python3"
  },
  "language_info": {
   "codemirror_mode": {
    "name": "ipython",
    "version": 3
   },
   "file_extension": ".py",
   "mimetype": "text/x-python",
   "name": "python",
   "nbconvert_exporter": "python",
   "pygments_lexer": "ipython3",
   "version": "3.11.3"
  },
  "orig_nbformat": 4
 },
 "nbformat": 4,
 "nbformat_minor": 2
}
