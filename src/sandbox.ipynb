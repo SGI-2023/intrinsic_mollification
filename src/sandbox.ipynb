{
 "cells": [
  {
   "cell_type": "code",
   "execution_count": 11,
   "metadata": {},
   "outputs": [],
   "source": [
    "'''\n",
    "    Phase II:\n",
    "    Build the cotan-Laplace matrix from the intrinsic lengths. \n",
    "    (A description of how to do this can be found in the same paper by Sharp & Crane).\n",
    "'''\n",
    "\n",
    "import numpy as np\n",
    "import igl\n",
    "import Mollification\n",
    "import cotanLaplace\n",
    "import trimesh\n",
    "import os\n",
    "\n",
    "root_folder = os.getcwd()\n",
    "\n"
   ]
  },
  {
   "cell_type": "code",
   "execution_count": 22,
   "metadata": {},
   "outputs": [],
   "source": [
    "\n",
    "[V,F]= igl.read_triangle_mesh(os.path.join(\n",
    "            root_folder, \"../data\", \"cow_nonmanifold.obj\"))\n",
    "\n",
    "delta = 0.00000000\n",
    "E, newL, eps = Mollification.IntrinsicMollification(V, F, delta)\n",
    "LaplacianMollified = cotanLaplace.cotanLaplace(F, E, newL, V.shape[0])\n",
    "\n",
    "\n"
   ]
  },
  {
   "cell_type": "code",
   "execution_count": 23,
   "metadata": {},
   "outputs": [],
   "source": [
    "Laplacian_igl = igl.cotmatrix(V, F)\n",
    "# get dense matrix from sparse matrix\n",
    "Laplacian_igl = np.array(Laplacian_igl.todense())"
   ]
  },
  {
   "cell_type": "code",
   "execution_count": 24,
   "metadata": {},
   "outputs": [
    {
     "name": "stdout",
     "output_type": "stream",
     "text": [
      "(2903, 2903)\n",
      "(2903, 2903)\n"
     ]
    }
   ],
   "source": [
    "print(Laplacian_igl.shape)\n",
    "print(LaplacianMollified.shape)"
   ]
  },
  {
   "cell_type": "code",
   "execution_count": 25,
   "metadata": {},
   "outputs": [
    {
     "name": "stdout",
     "output_type": "stream",
     "text": [
      "8.806218487887165e-13\n",
      "387.9871535186017\n",
      "387.9871535186019\n"
     ]
    }
   ],
   "source": [
    "# compute l2 norm of difference between cotan-Laplace matrix and intrinsic mollification cotan-Laplace matrix\n",
    "\n",
    "print(np.linalg.norm(LaplacianMollified - Laplacian_igl))\n",
    "print(np.linalg.norm(LaplacianMollified)) \n",
    "print(np.linalg.norm(Laplacian_igl))"
   ]
  }
 ],
 "metadata": {
  "kernelspec": {
   "display_name": "Python 3",
   "language": "python",
   "name": "python3"
  },
  "language_info": {
   "codemirror_mode": {
    "name": "ipython",
    "version": 3
   },
   "file_extension": ".py",
   "mimetype": "text/x-python",
   "name": "python",
   "nbconvert_exporter": "python",
   "pygments_lexer": "ipython3",
   "version": "3.10.0"
  },
  "orig_nbformat": 4
 },
 "nbformat": 4,
 "nbformat_minor": 2
}
