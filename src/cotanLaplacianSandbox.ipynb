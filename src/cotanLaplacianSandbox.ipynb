{
 "cells": [
  {
   "cell_type": "code",
   "execution_count": 1,
   "metadata": {},
   "outputs": [],
   "source": [
    "'''\n",
    "    Phase II:\n",
    "    Build the cotan-Laplace matrix from the intrinsic lengths. \n",
    "    (A description of how to do this can be found in the same paper by Sharp & Crane).\n",
    "'''\n",
    "\n",
    "import numpy as np\n",
    "import igl\n",
    "import Mollification\n",
    "import cotanLaplace\n",
    "import trimesh\n",
    "import os\n",
    "\n",
    "root_folder = os.getcwd()\n",
    "\n"
   ]
  },
  {
   "cell_type": "code",
   "execution_count": 2,
   "metadata": {},
   "outputs": [],
   "source": [
    "\n",
    "[V,F]= igl.read_triangle_mesh(os.path.join(\n",
    "            root_folder, \"../data\", \"better_dragon.obj\"))\n",
    "\n",
    "\n"
   ]
  },
  {
   "cell_type": "code",
   "execution_count": 12,
   "metadata": {},
   "outputs": [],
   "source": [
    "delta = 0.0001\n",
    "FL = igl.edge_lengths(V, F)         # columns correspond to edges lengths [1,2],[2,0],[0,1]\n",
    "eps = 0.0\n",
    "\n",
    "delta_factor = delta * np.mean(FL)"
   ]
  },
  {
   "cell_type": "code",
   "execution_count": 13,
   "metadata": {},
   "outputs": [],
   "source": [
    "# iterate over each triangle to compute epsilon\n",
    "\n",
    "\n",
    "# replace the loop above with np operations\n",
    "eps1 = np.max( [delta_factor + FL[:,0] - FL[:,1] - FL[:,2], delta_factor - FL[:,0] + FL[:,1] - FL[:,2], delta_factor - FL[:,0] - FL[:,1] + FL[:,2] ]  )\n",
    "\n"
   ]
  },
  {
   "cell_type": "code",
   "execution_count": 14,
   "metadata": {},
   "outputs": [],
   "source": [
    "for T in FL:\n",
    "   eps = max(   [eps, delta_factor + T[0] - T[1] - T[2], delta_factor - T[0] + T[1] - T[2], delta_factor - T[0] - T[1] + T[2] ]  )\n"
   ]
  },
  {
   "cell_type": "code",
   "execution_count": null,
   "metadata": {},
   "outputs": [],
   "source": [
    "print(eps, eps1)"
   ]
  },
  {
   "cell_type": "code",
   "execution_count": null,
   "metadata": {},
   "outputs": [],
   "source": [
    "delta = 0.0001\n",
    "E, eps, newL = Mollification.IntrinsicMollificationConstant(V, F, delta)\n"
   ]
  },
  {
   "cell_type": "code",
   "execution_count": 8,
   "metadata": {},
   "outputs": [],
   "source": [
    "Laplacian_igl = igl.cotmatrix(V, F)\n",
    "# get dense matrix from sparse matrix\n",
    "Laplacian_igl = np.array(Laplacian_igl.todense())"
   ]
  },
  {
   "cell_type": "code",
   "execution_count": 12,
   "metadata": {},
   "outputs": [
    {
     "name": "stdout",
     "output_type": "stream",
     "text": [
      "(2903, 2903)\n",
      "(2903, 2903)\n"
     ]
    }
   ],
   "source": [
    "print(Laplacian_igl.shape)\n",
    "print(Laplacian_intrinsic.shape)"
   ]
  },
  {
   "cell_type": "code",
   "execution_count": 13,
   "metadata": {},
   "outputs": [
    {
     "name": "stdout",
     "output_type": "stream",
     "text": [
      "8.806218487887165e-13\n",
      "387.9871535186017\n",
      "387.9871535186019\n"
     ]
    }
   ],
   "source": [
    "# compute l2 norm of difference between cotan-Laplace matrix and intrinsic mollification cotan-Laplace matrix\n",
    "\n",
    "print(np.linalg.norm(Laplacian_intrinsic - Laplacian_igl))\n",
    "print(np.linalg.norm(Laplacian_intrinsic)) \n",
    "print(np.linalg.norm(Laplacian_igl))"
   ]
  }
 ],
 "metadata": {
  "kernelspec": {
   "display_name": "Python 3",
   "language": "python",
   "name": "python3"
  },
  "language_info": {
   "codemirror_mode": {
    "name": "ipython",
    "version": 3
   },
   "file_extension": ".py",
   "mimetype": "text/x-python",
   "name": "python",
   "nbconvert_exporter": "python",
   "pygments_lexer": "ipython3",
   "version": "3.10.0"
  },
  "orig_nbformat": 4
 },
 "nbformat": 4,
 "nbformat_minor": 2
}
